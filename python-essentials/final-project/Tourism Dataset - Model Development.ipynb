{
 "cells": [
  {
   "cell_type": "markdown",
   "id": "37ce8ee4-0adc-4166-8944-9f9246b105d0",
   "metadata": {},
   "source": [
    "# Project - Model Development, Evaluation, and Improvement"
   ]
  },
  {
   "cell_type": "markdown",
   "id": "492a91a8-c85a-4b95-acae-a79a94b74532",
   "metadata": {},
   "source": [
    "**Instructions:**\n",
    "\n",
    "4. Modeling and Evaluation:\n",
    "\n",
    "Model data using one of the supervised machine learning algorithms learned.\n",
    "Evaluate the model's performance."
   ]
  },
  {
   "cell_type": "code",
   "execution_count": 3,
   "id": "d09881c9-0bba-48fa-9e49-a7ac71faf603",
   "metadata": {},
   "outputs": [],
   "source": [
    "# Ignore Future Warnings for easier analysis\n",
    "import warnings\n",
    "warnings.filterwarnings(\"ignore\")"
   ]
  },
  {
   "cell_type": "code",
   "execution_count": 4,
   "id": "7c782554-16fc-4497-82ac-2802b41a7a01",
   "metadata": {},
   "outputs": [],
   "source": [
    "# Imports:\n",
    "import pandas as pd\n",
    "from sklearn.model_selection import train_test_split\n",
    "import numpy as np\n",
    "from sklearn.pipeline import Pipeline\n",
    "from sklearn.preprocessing import StandardScaler\n",
    "from sklearn.svm import SVR\n",
    "from sklearn.tree import DecisionTreeRegressor\n",
    "from sklearn.metrics import mean_squared_error, make_scorer\n",
    "from sklearn.experimental import enable_halving_search_cv\n",
    "from sklearn.model_selection import KFold, HalvingGridSearchCV"
   ]
  },
  {
   "cell_type": "code",
   "execution_count": 5,
   "id": "b9102bee-de6d-40b1-9ff4-bde64174d21f",
   "metadata": {},
   "outputs": [],
   "source": [
    "# Split cleaned data into training, validation, and testing\n",
    "data = pd.read_csv('C:/Users/miche/OneDrive/Desktop/Comp-2040 Python Essentials/Final Project/cleaned_data.csv')\n",
    "\n",
    "features = data.drop(columns=['inflation', 'country', 'country_code'])\n",
    "condition = data['inflation']\n",
    "\n",
    "x_train, x_valtest, y_train, y_valtest = train_test_split(features, condition, random_state=42)\n",
    "x_val, x_test, y_val, y_test = train_test_split(x_valtest, y_valtest, random_state=42)\n",
    "\n",
    "x_train.to_csv(\"C:/Users/miche/OneDrive/Desktop/Comp-2040 Python Essentials/Final Project/Train,Val,Test Data/Train_features.csv\", index=False)\n",
    "y_train.to_csv(\"C:/Users/miche/OneDrive/Desktop/Comp-2040 Python Essentials/Final Project/Train,Val,Test Data/Train_labels.csv\", index=False)\n",
    "x_val.to_csv(\"C:/Users/miche/OneDrive/Desktop/Comp-2040 Python Essentials/Final Project/Train,Val,Test Data/Val_features.csv\", index=False)\n",
    "y_val.to_csv(\"C:/Users/miche/OneDrive/Desktop/Comp-2040 Python Essentials/Final Project/Train,Val,Test Data/Val_labels.csv\", index=False)\n",
    "x_test.to_csv(\"C:/Users/miche/OneDrive/Desktop/Comp-2040 Python Essentials/Final Project/Train,Val,Test Data/Test_features.csv\", index=False)\n",
    "y_test.to_csv(\"C:/Users/miche/OneDrive/Desktop/Comp-2040 Python Essentials/Final Project/Train,Val,Test Data/Test_labels.csv\", index=False)"
   ]
  },
  {
   "cell_type": "code",
   "execution_count": 6,
   "id": "6ddb2d13-b1ce-49f2-9810-bee6d0050ecb",
   "metadata": {},
   "outputs": [],
   "source": [
    "# Load Training, Validation, and Testing data - Features and Labels\n",
    "train_features = pd.read_csv('C:/Users/miche/OneDrive/Desktop/Comp-2040 Python Essentials/Final Project/Train,Val,Test Data/Train_features.csv')\n",
    "train_label = pd.read_csv('C:/Users/miche/OneDrive/Desktop/Comp-2040 Python Essentials/Final Project/Train,Val,Test Data/Train_labels.csv')\n",
    "\n",
    "test_features = pd.read_csv('C:/Users/miche/OneDrive/Desktop/Comp-2040 Python Essentials/Final Project/Train,Val,Test Data/Test_features.csv')\n",
    "test_label = pd.read_csv('C:/Users/miche/OneDrive/Desktop/Comp-2040 Python Essentials/Final Project/Train,Val,Test Data/Test_labels.csv')"
   ]
  },
  {
   "cell_type": "code",
   "execution_count": 7,
   "id": "c5b526c0-60d6-4e7a-babb-0a8a488d84de",
   "metadata": {},
   "outputs": [
    {
     "name": "stdout",
     "output_type": "stream",
     "text": [
      "Best parameters: {'criterion': 'squared_error', 'max_depth': 30, 'min_samples_leaf': 1, 'min_samples_split': 5}\n",
      "Weighted mean training score: 553.1622460463002\n",
      "MSE: 50.605621792277674\n"
     ]
    }
   ],
   "source": [
    "# Use the GridSearchCV module for easier evaluation of data - Decision Tree Evaluation\n",
    "param_grid = {\n",
    "    'criterion': ['squared_error', 'absolute_error', 'friedman_mse'],\n",
    "    'max_depth': [1, 5, 10, 15, 30, 40, 50],\n",
    "    'min_samples_split': [1, 5, 10, 15, 30],\n",
    "    'min_samples_leaf': [1, 5, 10, 15, 30]\n",
    "}\n",
    "\n",
    "kfold = KFold(n_splits=5, shuffle=True, random_state=42)\n",
    "mse_score = make_scorer(mean_squared_error)\n",
    "\n",
    "dt_grid_search = HalvingGridSearchCV(estimator=DecisionTreeRegressor(), param_grid=param_grid, cv=kfold, scoring=mse_score, return_train_score=True)\n",
    "dt_grid_search.fit(train_features, train_label)\n",
    "\n",
    "print(\"Best parameters:\", dt_grid_search.best_params_)\n",
    "print(\"Weighted mean training score:\", dt_grid_search.best_score_)\n",
    "\n",
    "pred = dt_grid_search.predict(train_features)\n",
    "print(\"MSE:\", mean_squared_error(train_label, pred))"
   ]
  },
  {
   "cell_type": "code",
   "execution_count": 8,
   "id": "66266fa9-6f96-45e3-a886-bff316977c48",
   "metadata": {},
   "outputs": [
    {
     "name": "stdout",
     "output_type": "stream",
     "text": [
      "Best parameters: {'svr__C': 10, 'svr__degree': 1, 'svr__gamma': 5, 'svr__kernel': 'linear'}\n",
      "Weighted mean training score: 334.59208716199817\n",
      "MSE: 329.48693317948795\n"
     ]
    }
   ],
   "source": [
    "# Use the HalvingGridSearchCV module for easier evaluation of data - SVM Evaluation\n",
    "pipeline = Pipeline([\n",
    "    ('scaler', StandardScaler()),\n",
    "    ('svr', SVR())\n",
    "])\n",
    "\n",
    "param_grid = {\n",
    "    'svr__C': [5, 10, 15, 25, 50],\n",
    "    'svr__degree': [1, 5, 10, 15, 30],\n",
    "    'svr__gamma': [1, 5, 10, 15, 30],\n",
    "    'svr__kernel': ['linear', 'rbf']\n",
    "}\n",
    "\n",
    "kfold = KFold(n_splits=5, shuffle=True, random_state=42)\n",
    "mse_score = make_scorer(mean_squared_error)\n",
    "\n",
    "svm_grid_search = HalvingGridSearchCV(pipeline, param_grid, cv=kfold, scoring=mse_score, return_train_score=True)\n",
    "svm_grid_search.fit(train_features, train_label)\n",
    "\n",
    "print(\"Best parameters:\", svm_grid_search.best_params_)\n",
    "print(\"Weighted mean training score:\", svm_grid_search.best_score_)\n",
    "\n",
    "pred = svm_grid_search.predict(train_features)\n",
    "print(\"MSE:\", mean_squared_error(train_label, pred))"
   ]
  },
  {
   "cell_type": "code",
   "execution_count": 9,
   "id": "5e42aae5-647f-4c5e-8fd5-b8232eec20a2",
   "metadata": {},
   "outputs": [
    {
     "name": "stdout",
     "output_type": "stream",
     "text": [
      "MSE: 49.630083075257474\n"
     ]
    }
   ],
   "source": [
    "# Evaluate the best model using testing data\n",
    "best_model = dt_grid_search.best_estimator_\n",
    "\n",
    "preds = best_model.predict(test_features)\n",
    "print(\"MSE:\", mean_squared_error(test_label, preds))"
   ]
  },
  {
   "cell_type": "markdown",
   "id": "8fa9afd6-bd60-4aa0-a6dd-e3757f6d4ca4",
   "metadata": {},
   "source": [
    "**Explanation:**\n",
    "\n",
    "To determine the best model, I used the GridSearchCV module for efficient training and evaluation. I tested two models: a decision tree and an SVR model, obtaining the following results:\n",
    "\n",
    "**Decision Tree:**\n",
    "<pre>\n",
    "Best parameters: {'criterion': 'squared_error', 'max_depth': 30, 'min_samples_leaf': 1, 'min_samples_split': 5}\r\n",
    "Weighted mean training score: 553.1622460463002\r\n",
    "MSE: 50.60562179227767</pre>\n",
    "\n",
    "**SVR Model:**\n",
    "<pre>\n",
    "Best parameters: {'svr__C': 10, 'svr__degree': 1, 'svr__gamma': 5, 'svr__kernel': 'linear'}\r\n",
    "Weighted mean training score: 334.59208716199817\r\n",
    "MSE: 329.4869331794879</pre>\n",
    "\n",
    "After testing various combinations of hyperparameters, the decision tree yielded better results on the training data due to its lower MSE and higher training score. Upon evaluating the model with testing data, the decision tree remained the most optimal choice, demonstrating consistent performancee>e>"
   ]
  },
  {
   "cell_type": "code",
   "execution_count": null,
   "id": "35aec849-7624-40db-905c-c3512a891cd8",
   "metadata": {},
   "outputs": [],
   "source": [
    "# Explanation:\n",
    "\n",
    "# To determine the best model, I used the GridSearchCV module for efficient training and evaluation. I tested two models: a decision tree and \n",
    "# an SVR model, obtaining the following results:\n",
    "\n",
    "# Decision Tree:\n",
    "# Best parameters: {'criterion': 'squared_error', 'max_depth': 30, 'min_samples_leaf': 1, 'min_samples_split': 5}\n",
    "# Weighted mean training score: 553.1622460463002\n",
    "# MSE: 50.60562179227767\n",
    "\n",
    "# SVR Model:\n",
    "# Best parameters: {'svr__C': 10, 'svr__degree': 1, 'svr__gamma': 5, 'svr__kernel': 'linear'}\n",
    "# Weighted mean training score: 334.59208716199817\n",
    "# MSE: 329.4869331794879\n",
    "\n",
    "# After testing various combinations of hyperparameters, the decision tree yielded better results on the training data due to its lower MSE and higher \n",
    "# training score. Upon evaluating the model with testing data, the decision tree remained the most optimal choice, demonstrating consistent performance"
   ]
  }
 ],
 "metadata": {
  "kernelspec": {
   "display_name": "Python 3 (ipykernel)",
   "language": "python",
   "name": "python3"
  },
  "language_info": {
   "codemirror_mode": {
    "name": "ipython",
    "version": 3
   },
   "file_extension": ".py",
   "mimetype": "text/x-python",
   "name": "python",
   "nbconvert_exporter": "python",
   "pygments_lexer": "ipython3",
   "version": "3.12.3"
  }
 },
 "nbformat": 4,
 "nbformat_minor": 5
}
