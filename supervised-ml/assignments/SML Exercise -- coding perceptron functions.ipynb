{
 "cells": [
  {
   "cell_type": "markdown",
   "id": "212501ca-8e85-40e9-8128-0f8a893f6a9d",
   "metadata": {},
   "source": [
    "# SML Exercise -- Coding Perceptron Functions: Group 2"
   ]
  },
  {
   "cell_type": "code",
   "execution_count": 1,
   "id": "4995ad19-b511-4dc1-96ed-29e2ba489b0f",
   "metadata": {},
   "outputs": [],
   "source": [
    "#Imports:\n",
    "import numpy as np"
   ]
  },
  {
   "cell_type": "code",
   "execution_count": 2,
   "id": "62e88507-7bb9-4e68-aaea-817534fea83e",
   "metadata": {},
   "outputs": [],
   "source": [
    "# 1) Write a function called ‘score’ according to the following pseudocode:\n",
    "# Input: a NumPy array with length two of weights 𝐰, bias 𝑏, the features of a single sample in a length two NumPy array 𝐱.\n",
    "# Output: the 𝑧-value (score) of the sample.\n",
    "# Procedure: calculate and return 𝑧=𝐰∙𝐱+𝑏.\n",
    "\n",
    "def score(w, b, x):\n",
    "    return np.dot(x, w) + b"
   ]
  },
  {
   "cell_type": "code",
   "execution_count": 3,
   "id": "7d11377a-befb-4cfc-8cbc-7d270c346667",
   "metadata": {},
   "outputs": [],
   "source": [
    "# 2) Write a function called ‘step’ which implements the step function Θ:\n",
    "# Input: a number 𝑧.\n",
    "# Output: Θ(𝑧).\n",
    "# Procedure: follow definition of the step function.\n",
    "\n",
    "def step(z):\n",
    "    if z >= 0:\n",
    "        return 1\n",
    "    else:\n",
    "        return 0"
   ]
  },
  {
   "cell_type": "code",
   "execution_count": 4,
   "id": "889f9913-5126-43c6-8f6b-8014141ff69a",
   "metadata": {},
   "outputs": [],
   "source": [
    "# 3) Write a function called ‘predict’ according to the following pseudocode:\n",
    "# Input: a NumPy array with length two of weights 𝐰, bias 𝑏, the features of a single sample in a length two NumPy array 𝐱.\n",
    "# Output: a prediction of 1 or 0.\n",
    "# Procedure:\n",
    "#  · Calculate 𝑧 using the ‘score’ function.\n",
    "#  · Use the ‘step’ function to find Θ(𝑧).\n",
    "#  · Return Θ(𝑧).\n",
    "\n",
    "def predict(w, b, x):\n",
    "    return step(score(w, b, x))"
   ]
  },
  {
   "cell_type": "code",
   "execution_count": 5,
   "id": "f8101546-377b-432e-9dd6-dc45ea5d109d",
   "metadata": {},
   "outputs": [],
   "source": [
    "# 4) Write a function called ‘error’ which returns the error for a single point according to the following pseudocode:\n",
    "# Input: a NumPy array with length two of weights 𝐰, bias 𝑏, the features of a single sample in a length two NumPy array 𝐱, label of a single sample 𝑦.\n",
    "# Output: error contribution of a point\n",
    "# Procedure:\n",
    "#  · Find the prediction using the ‘predict’ function\n",
    "#  · Return the error:\n",
    "#     · 0 if the prediction is correct.\n",
    "#     · |Θ(𝑧)| if the prediction is incorrect.\n",
    "\n",
    "def error(w, b, x, y):\n",
    "    prediction = predict(w, b, x)\n",
    "    if prediction == y:\n",
    "        return 0\n",
    "    else:\n",
    "        return np.abs(score(w, b, x))"
   ]
  },
  {
   "cell_type": "code",
   "execution_count": 6,
   "id": "83c0b52d-9e55-41b8-91c7-93864cb8f001",
   "metadata": {},
   "outputs": [],
   "source": [
    "# 5) Write a function called ‘mean_perceptron_error’ which returns the average error for all points according to the following pseudocode:\n",
    "# Input: a NumPy array with length two of weights 𝐰, bias 𝑏, the features of all samples NumPy array 𝐗 with two columns and an arbitrary number of rows, a NumPy array 𝑌 with a label for each sample.\n",
    "# Output: the mean perceptron error.\n",
    "# Procedure:\n",
    "#  · Calculate the error for each sample:\n",
    "#     · 0 if the prediction is correct.\n",
    "#     · |Θ(𝑧)| if the prediction is incorrect.\n",
    "#  · Calculate and return the average error over all of the samples.\n",
    "\n",
    "def mean_perceptron_error(w, b, X, Y):\n",
    "    total = 0\n",
    "    for i in range(len(X)):\n",
    "        total += error(w, b, X[i], Y[i])\n",
    "    return total/len(X)"
   ]
  },
  {
   "cell_type": "code",
   "execution_count": 7,
   "id": "eb4069c2-bab2-48ca-8ac9-7d66a1e4afc6",
   "metadata": {},
   "outputs": [],
   "source": [
    "# 6) Enter the following data:\n",
    "\n",
    "X = np.array([[1, 0], [0, 1], [1, 3], [3, 2]])\n",
    "Y = np.array([0, 1, 1, 0])\n",
    "w = np.array([1, 2])\n",
    "b = -4"
   ]
  },
  {
   "cell_type": "code",
   "execution_count": 10,
   "id": "1631068b-dcf4-4eb6-9b48-9619d57c8b93",
   "metadata": {},
   "outputs": [
    {
     "name": "stdout",
     "output_type": "stream",
     "text": [
      "Score: -3\n",
      "Score: -2\n",
      "Score: 3\n",
      "Score: 3\n",
      "Prediction: 0\n",
      "Prediction: 0\n",
      "Prediction: 1\n",
      "Prediction: 1\n",
      "Error: 0\n",
      "Error: 2\n",
      "Error: 0\n",
      "Error: 3\n",
      "Mean Perceptron Error: 1.25\n"
     ]
    }
   ],
   "source": [
    "# Use each sample of data, and the given weights and bias, to test each function.\n",
    "#Score Function\n",
    "for i in range(len(Y)):\n",
    "    print(f'Score: {score(w, b, X[i])}')\n",
    "\n",
    "#Predict Function\n",
    "for i in range(len(Y)):\n",
    "    print(f'Prediction: {predict(w, b, X[i])}')\n",
    "\n",
    "#Error Function\n",
    "for i in range(len(Y)):\n",
    "    print(f'Error: {error(w, b, X[i], Y[i])}')\n",
    "\n",
    "#Mean Perceptron Error Function\n",
    "print(f'Mean Perceptron Error: {mean_perceptron_error(w, b, X, Y)}')"
   ]
  }
 ],
 "metadata": {
  "kernelspec": {
   "display_name": "Python 3 (ipykernel)",
   "language": "python",
   "name": "python3"
  },
  "language_info": {
   "codemirror_mode": {
    "name": "ipython",
    "version": 3
   },
   "file_extension": ".py",
   "mimetype": "text/x-python",
   "name": "python",
   "nbconvert_exporter": "python",
   "pygments_lexer": "ipython3",
   "version": "3.8.20"
  }
 },
 "nbformat": 4,
 "nbformat_minor": 5
}
