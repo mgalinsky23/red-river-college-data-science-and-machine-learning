{
 "cells": [
  {
   "cell_type": "markdown",
   "id": "4e1a052e-5af0-4e85-8e28-c22587216b74",
   "metadata": {},
   "source": [
    "# SML Lab 4"
   ]
  },
  {
   "cell_type": "code",
   "execution_count": 1,
   "id": "0d597747-b308-443d-8a28-fa5bee5e82d6",
   "metadata": {},
   "outputs": [],
   "source": [
    "# Imports:\n",
    "import turicreate as tc\n",
    "import re\n",
    "from sklearn.model_selection import train_test_split\n",
    "import numpy as np\n",
    "import matplotlib.pyplot as plt"
   ]
  },
  {
   "cell_type": "code",
   "execution_count": 2,
   "id": "4d29ee50-dd1c-4d7f-938c-16589c6d4133",
   "metadata": {},
   "outputs": [],
   "source": [
    "# 1) Imagine that a movie production company wants to use a sentiment analysis model to identify positive/negative reviews of their movies. \n",
    "# Which is worse for this use case, a false positive or a false negative, or are they equally bad? What value of β would be suitable for an Fβ score? \n",
    "# Explain your reasoning in markdown, and state a value of β."
   ]
  },
  {
   "cell_type": "markdown",
   "id": "9584e781-4d71-4983-8cb5-29bba60b226d",
   "metadata": {},
   "source": [
    "**Explanation:**\n",
    "\n",
    "1. I believe that both are equally bad. With a false negative (FN), the model would wrongly predict a review to be negative (with a positive label), which would wrongly balance the overall rating.\n",
    "With a false positive (FP), the model would wrongly predict a positive review (with a negative label), which would also wrongly balance the overall movie's rating.\n",
    "\n",
    "3. A suitable value for β in the Fβ score is 1. This value addresses the balance between precision and recall for this use case. This is because FN and FP are both equally important."
   ]
  },
  {
   "cell_type": "code",
   "execution_count": 3,
   "id": "e18314f3-06e5-4c33-96b1-e476281380db",
   "metadata": {},
   "outputs": [],
   "source": [
    "# Here is the explanation again if the markdown isn't visible:\n",
    "\n",
    "# Explanation:\n",
    "# 1. I believe that both are equally bad. With a false negative (FN), the model would wrongly predict a review to be negative (with a positive label), which would wrongly balance the overall rating. \n",
    "# With a false positive (FP), the model would wrongly predict a positive review (with a negative label), which would also wrongly balance the overall movie's rating.\n",
    "\n",
    "# 2. A suitable value for β in the Fβ score is 1. This value addresses the balance between precision and recall for this use case. This is because FN and FP are both equally important."
   ]
  },
  {
   "cell_type": "code",
   "execution_count": 4,
   "id": "15291f4d-fc56-4864-b623-7427c6440ebf",
   "metadata": {},
   "outputs": [
    {
     "data": {
      "text/html": [
       "<pre>Finished parsing file /home/mgalinsky/SML/Lab4/IMDB_Dataset.csv</pre>"
      ],
      "text/plain": [
       "Finished parsing file /home/mgalinsky/SML/Lab4/IMDB_Dataset.csv"
      ]
     },
     "metadata": {},
     "output_type": "display_data"
    },
    {
     "data": {
      "text/html": [
       "<pre>Parsing completed. Parsed 100 lines in 3.65456 secs.</pre>"
      ],
      "text/plain": [
       "Parsing completed. Parsed 100 lines in 3.65456 secs."
      ]
     },
     "metadata": {},
     "output_type": "display_data"
    },
    {
     "name": "stdout",
     "output_type": "stream",
     "text": [
      "------------------------------------------------------\n",
      "Inferred types from first 100 line(s) of file as \n",
      "column_type_hints=[str,str]\n",
      "If parsing fails due to incorrect types, you can correct\n",
      "the inferred type list above and pass it to read_csv in\n",
      "the column_type_hints argument\n",
      "------------------------------------------------------\n"
     ]
    },
    {
     "data": {
      "text/html": [
       "<pre>Read 39624 lines. Lines per second: 49460.1</pre>"
      ],
      "text/plain": [
       "Read 39624 lines. Lines per second: 49460.1"
      ]
     },
     "metadata": {},
     "output_type": "display_data"
    },
    {
     "data": {
      "text/html": [
       "<pre>Finished parsing file /home/mgalinsky/SML/Lab4/IMDB_Dataset.csv</pre>"
      ],
      "text/plain": [
       "Finished parsing file /home/mgalinsky/SML/Lab4/IMDB_Dataset.csv"
      ]
     },
     "metadata": {},
     "output_type": "display_data"
    },
    {
     "data": {
      "text/html": [
       "<pre>Parsing completed. Parsed 50000 lines in 0.919751 secs.</pre>"
      ],
      "text/plain": [
       "Parsing completed. Parsed 50000 lines in 0.919751 secs."
      ]
     },
     "metadata": {},
     "output_type": "display_data"
    }
   ],
   "source": [
    "# 2) Load the original dataset into an SFrame. Write a function to clean the data using the ‘re’ library, so that it is better suited for sentiment analysis. \n",
    "# Use the function to clean the data and store it in a new column of the SFrame.\n",
    "\n",
    "movies = tc.SFrame('IMDB_Dataset.csv')\n",
    "\n",
    "def clean(sample):\n",
    "    sample = re.sub('\\d', '', sample)\n",
    "    sample = re.sub('<.{1,4}>', ' ', sample)\n",
    "    sample = re.sub('[^\\w\\s]', ' ', sample)\n",
    "    sample = sample.lower()\n",
    "    return sample\n",
    "\n",
    "#clean = np.array(clean(review))\n",
    "movies['clean'] = movies['review'].apply(clean)"
   ]
  },
  {
   "cell_type": "code",
   "execution_count": 5,
   "id": "b15bd530-59a2-41a3-bc72-3bd75a40ebc1",
   "metadata": {},
   "outputs": [],
   "source": [
    "# 3) Use Turi Create text_analytics.count_words() to count the occurrences of each word in each review; store this data in a new column of the SFrame.\n",
    "\n",
    "movies['words'] = tc.text_analytics.count_words(movies['review'])"
   ]
  },
  {
   "cell_type": "code",
   "execution_count": 6,
   "id": "dbdd5ddb-e54e-4092-a8ad-9585a34de5d0",
   "metadata": {},
   "outputs": [],
   "source": [
    "# 4) Split the data into training/validation/testing sets using 80%/10%/10% respectively.\n",
    "\n",
    "train_data, remaining_data = movies.random_split(0.8)\n",
    "val_data, test_data = remaining_data.random_split(0.5)"
   ]
  },
  {
   "cell_type": "code",
   "execution_count": 7,
   "id": "4ec0040b-d548-44a7-acba-0728869f32a0",
   "metadata": {
    "scrolled": true
   },
   "outputs": [
    {
     "name": "stdout",
     "output_type": "stream",
     "text": [
      "PROGRESS: Creating a validation set from 5 percent of training data. This may take a while.\n",
      "          You can set ``validation_set=None`` to disable validation tracking.\n",
      "\n"
     ]
    },
    {
     "data": {
      "text/html": [
       "<pre>Logistic regression:</pre>"
      ],
      "text/plain": [
       "Logistic regression:"
      ]
     },
     "metadata": {},
     "output_type": "display_data"
    },
    {
     "data": {
      "text/html": [
       "<pre>--------------------------------------------------------</pre>"
      ],
      "text/plain": [
       "--------------------------------------------------------"
      ]
     },
     "metadata": {},
     "output_type": "display_data"
    },
    {
     "data": {
      "text/html": [
       "<pre>Number of examples          : 38045</pre>"
      ],
      "text/plain": [
       "Number of examples          : 38045"
      ]
     },
     "metadata": {},
     "output_type": "display_data"
    },
    {
     "data": {
      "text/html": [
       "<pre>Number of classes           : 2</pre>"
      ],
      "text/plain": [
       "Number of classes           : 2"
      ]
     },
     "metadata": {},
     "output_type": "display_data"
    },
    {
     "data": {
      "text/html": [
       "<pre>Number of feature columns   : 1</pre>"
      ],
      "text/plain": [
       "Number of feature columns   : 1"
      ]
     },
     "metadata": {},
     "output_type": "display_data"
    },
    {
     "data": {
      "text/html": [
       "<pre>Number of unpacked features : 92683</pre>"
      ],
      "text/plain": [
       "Number of unpacked features : 92683"
      ]
     },
     "metadata": {},
     "output_type": "display_data"
    },
    {
     "data": {
      "text/html": [
       "<pre>Number of coefficients      : 92684</pre>"
      ],
      "text/plain": [
       "Number of coefficients      : 92684"
      ]
     },
     "metadata": {},
     "output_type": "display_data"
    },
    {
     "data": {
      "text/html": [
       "<pre>Starting L-BFGS</pre>"
      ],
      "text/plain": [
       "Starting L-BFGS"
      ]
     },
     "metadata": {},
     "output_type": "display_data"
    },
    {
     "data": {
      "text/html": [
       "<pre>--------------------------------------------------------</pre>"
      ],
      "text/plain": [
       "--------------------------------------------------------"
      ]
     },
     "metadata": {},
     "output_type": "display_data"
    },
    {
     "data": {
      "text/html": [
       "<pre>+-----------+----------+-----------+--------------+-------------------+---------------------+</pre>"
      ],
      "text/plain": [
       "+-----------+----------+-----------+--------------+-------------------+---------------------+"
      ]
     },
     "metadata": {},
     "output_type": "display_data"
    },
    {
     "data": {
      "text/html": [
       "<pre>| Iteration | Passes   | Step size | Elapsed Time | Training Accuracy | Validation Accuracy |</pre>"
      ],
      "text/plain": [
       "| Iteration | Passes   | Step size | Elapsed Time | Training Accuracy | Validation Accuracy |"
      ]
     },
     "metadata": {},
     "output_type": "display_data"
    },
    {
     "data": {
      "text/html": [
       "<pre>+-----------+----------+-----------+--------------+-------------------+---------------------+</pre>"
      ],
      "text/plain": [
       "+-----------+----------+-----------+--------------+-------------------+---------------------+"
      ]
     },
     "metadata": {},
     "output_type": "display_data"
    },
    {
     "data": {
      "text/html": [
       "<pre>| 0         | 2        | 1.000000  | 1.262193     | 0.923722          | 0.849725            |</pre>"
      ],
      "text/plain": [
       "| 0         | 2        | 1.000000  | 1.262193     | 0.923722          | 0.849725            |"
      ]
     },
     "metadata": {},
     "output_type": "display_data"
    },
    {
     "data": {
      "text/html": [
       "<pre>| 1         | 4        | 1.000000  | 1.564133     | 0.954396          | 0.849725            |</pre>"
      ],
      "text/plain": [
       "| 1         | 4        | 1.000000  | 1.564133     | 0.954396          | 0.849725            |"
      ]
     },
     "metadata": {},
     "output_type": "display_data"
    },
    {
     "data": {
      "text/html": [
       "<pre>| 2         | 6        | 0.972300  | 1.843425     | 0.980024          | 0.886670            |</pre>"
      ],
      "text/plain": [
       "| 2         | 6        | 0.972300  | 1.843425     | 0.980024          | 0.886670            |"
      ]
     },
     "metadata": {},
     "output_type": "display_data"
    },
    {
     "data": {
      "text/html": [
       "<pre>| 3         | 7        | 1.000000  | 2.034676     | 0.984439          | 0.888168            |</pre>"
      ],
      "text/plain": [
       "| 3         | 7        | 1.000000  | 2.034676     | 0.984439          | 0.888168            |"
      ]
     },
     "metadata": {},
     "output_type": "display_data"
    },
    {
     "data": {
      "text/html": [
       "<pre>| 4         | 8        | 1.000000  | 2.217235     | 0.992824          | 0.895157            |</pre>"
      ],
      "text/plain": [
       "| 4         | 8        | 1.000000  | 2.217235     | 0.992824          | 0.895157            |"
      ]
     },
     "metadata": {},
     "output_type": "display_data"
    },
    {
     "data": {
      "text/html": [
       "<pre>| 9         | 13       | 1.000000  | 3.190709     | 0.999842          | 0.870694            |</pre>"
      ],
      "text/plain": [
       "| 9         | 13       | 1.000000  | 3.190709     | 0.999842          | 0.870694            |"
      ]
     },
     "metadata": {},
     "output_type": "display_data"
    },
    {
     "data": {
      "text/html": [
       "<pre>+-----------+----------+-----------+--------------+-------------------+---------------------+</pre>"
      ],
      "text/plain": [
       "+-----------+----------+-----------+--------------+-------------------+---------------------+"
      ]
     },
     "metadata": {},
     "output_type": "display_data"
    },
    {
     "name": "stdout",
     "output_type": "stream",
     "text": [
      "Training Dataset: \n",
      "\n",
      "Confusion Matrix: \n",
      " +--------------+-----------------+-------+\n",
      "| target_label | predicted_label | count |\n",
      "+--------------+-----------------+-------+\n",
      "|   positive   |     positive    | 19923 |\n",
      "|   positive   |     negative    |  144  |\n",
      "|   negative   |     negative    | 19860 |\n",
      "|   negative   |     positive    |  121  |\n",
      "+--------------+-----------------+-------+\n",
      "[4 rows x 3 columns]\n",
      "\n",
      "Accuracy: 0.9933829404714343\n",
      "Precision: 0.993963280782279\n",
      "Recall: 0.992824039467783\n",
      "F[1] Score: 0.9933933334995388\n",
      "AUC: 0.9983261194861089\n",
      "\n",
      " \n",
      "Validation Dataset: \n",
      "\n",
      "Confusion Matrix:\n",
      " +--------------+-----------------+-------+\n",
      "| target_label | predicted_label | count |\n",
      "+--------------+-----------------+-------+\n",
      "|   positive   |     positive    |  2148 |\n",
      "|   positive   |     negative    |  327  |\n",
      "|   negative   |     negative    |  2195 |\n",
      "|   negative   |     positive    |  326  |\n",
      "+--------------+-----------------+-------+\n",
      "[4 rows x 3 columns]\n",
      "\n",
      "Accuracy: 0.8692954363490792\n",
      "Precision: 0.8682295877122069\n",
      "Recall: 0.8678787878787879\n",
      "F[1] Score: 0.8680541523540108\n",
      "AUC: 0.9274929381077726\n"
     ]
    }
   ],
   "source": [
    "# 5) Use Turi Create to create a logistic classifier for sentiment analysis called model1. Find predictions using model.predict() with output_type='probability'; \n",
    "# do this for the training and validation sets and store them SArrays called train_pred_1 and val_pred_1.\n",
    "# Use functions within turicreate.evaluation to calculate and display, for the training and validation sets:\n",
    "#  · accuracies\n",
    "#  · confusion matrices\n",
    "#  · Fβ scores (using the value of β you chose above)\n",
    "#  · AUC\n",
    "\n",
    "model1 = tc.logistic_classifier.create(train_data, features=['words'], target='sentiment')\n",
    "\n",
    "train_pred_1 = model1.predict(train_data, output_type='probability')\n",
    "train_class_1 = model1.predict(train_data, output_type='class')\n",
    "\n",
    "# Training Dataset\n",
    "print('Training Dataset: \\n')\n",
    "print('Confusion Matrix: \\n', tc.evaluation.confusion_matrix(train_data['sentiment'], train_class_1))\n",
    "print('Accuracy:', tc.evaluation.accuracy(train_data['sentiment'], train_class_1))\n",
    "print('Precision:', tc.evaluation.precision(train_data['sentiment'], train_class_1))\n",
    "print('Recall:', tc.evaluation.recall(train_data['sentiment'], train_class_1))\n",
    "print('F[1] Score:', tc.evaluation.fbeta_score(train_data['sentiment'], train_class_1, beta=1))\n",
    "print('AUC:', tc.evaluation.auc(train_data['sentiment'], train_pred_1))\n",
    "\n",
    "val_pred_1 = model1.predict(val_data, output_type='probability')\n",
    "val_class_1 = model1.predict(val_data, output_type='class')\n",
    "\n",
    "# Validation Dataset\n",
    "print('\\n \\nValidation Dataset: \\n')\n",
    "print('Confusion Matrix:\\n', tc.evaluation.confusion_matrix(val_data['sentiment'], val_class_1))\n",
    "print('Accuracy:', tc.evaluation.accuracy(val_data['sentiment'], val_class_1))\n",
    "print('Precision:', tc.evaluation.precision(val_data['sentiment'], val_class_1))\n",
    "print('Recall:', tc.evaluation.recall(val_data['sentiment'], val_class_1))\n",
    "print('F[1] Score:', tc.evaluation.fbeta_score(val_data['sentiment'], val_class_1, beta=1))\n",
    "print('AUC:', tc.evaluation.auc(val_data['sentiment'], val_pred_1))"
   ]
  },
  {
   "cell_type": "code",
   "execution_count": 8,
   "id": "cc3b87e1-735d-433a-8689-d4fc78e4323a",
   "metadata": {
    "scrolled": true
   },
   "outputs": [
    {
     "name": "stdout",
     "output_type": "stream",
     "text": [
      "PROGRESS: Creating a validation set from 5 percent of training data. This may take a while.\n",
      "          You can set ``validation_set=None`` to disable validation tracking.\n",
      "\n"
     ]
    },
    {
     "data": {
      "text/html": [
       "<pre>Logistic regression:</pre>"
      ],
      "text/plain": [
       "Logistic regression:"
      ]
     },
     "metadata": {},
     "output_type": "display_data"
    },
    {
     "data": {
      "text/html": [
       "<pre>--------------------------------------------------------</pre>"
      ],
      "text/plain": [
       "--------------------------------------------------------"
      ]
     },
     "metadata": {},
     "output_type": "display_data"
    },
    {
     "data": {
      "text/html": [
       "<pre>Number of examples          : 38045</pre>"
      ],
      "text/plain": [
       "Number of examples          : 38045"
      ]
     },
     "metadata": {},
     "output_type": "display_data"
    },
    {
     "data": {
      "text/html": [
       "<pre>Number of classes           : 2</pre>"
      ],
      "text/plain": [
       "Number of classes           : 2"
      ]
     },
     "metadata": {},
     "output_type": "display_data"
    },
    {
     "data": {
      "text/html": [
       "<pre>Number of feature columns   : 1</pre>"
      ],
      "text/plain": [
       "Number of feature columns   : 1"
      ]
     },
     "metadata": {},
     "output_type": "display_data"
    },
    {
     "data": {
      "text/html": [
       "<pre>Number of unpacked features : 92650</pre>"
      ],
      "text/plain": [
       "Number of unpacked features : 92650"
      ]
     },
     "metadata": {},
     "output_type": "display_data"
    },
    {
     "data": {
      "text/html": [
       "<pre>Number of coefficients      : 92651</pre>"
      ],
      "text/plain": [
       "Number of coefficients      : 92651"
      ]
     },
     "metadata": {},
     "output_type": "display_data"
    },
    {
     "data": {
      "text/html": [
       "<pre>Starting Accelerated Gradient (FISTA)</pre>"
      ],
      "text/plain": [
       "Starting Accelerated Gradient (FISTA)"
      ]
     },
     "metadata": {},
     "output_type": "display_data"
    },
    {
     "data": {
      "text/html": [
       "<pre>--------------------------------------------------------</pre>"
      ],
      "text/plain": [
       "--------------------------------------------------------"
      ]
     },
     "metadata": {},
     "output_type": "display_data"
    },
    {
     "data": {
      "text/html": [
       "<pre>Tuning step size. First iteration could take longer than subsequent iterations.</pre>"
      ],
      "text/plain": [
       "Tuning step size. First iteration could take longer than subsequent iterations."
      ]
     },
     "metadata": {},
     "output_type": "display_data"
    },
    {
     "data": {
      "text/html": [
       "<pre>+-----------+----------+-----------+--------------+-------------------+---------------------+</pre>"
      ],
      "text/plain": [
       "+-----------+----------+-----------+--------------+-------------------+---------------------+"
      ]
     },
     "metadata": {},
     "output_type": "display_data"
    },
    {
     "data": {
      "text/html": [
       "<pre>| Iteration | Passes   | Step size | Elapsed Time | Training Accuracy | Validation Accuracy |</pre>"
      ],
      "text/plain": [
       "| Iteration | Passes   | Step size | Elapsed Time | Training Accuracy | Validation Accuracy |"
      ]
     },
     "metadata": {},
     "output_type": "display_data"
    },
    {
     "data": {
      "text/html": [
       "<pre>+-----------+----------+-----------+--------------+-------------------+---------------------+</pre>"
      ],
      "text/plain": [
       "+-----------+----------+-----------+--------------+-------------------+---------------------+"
      ]
     },
     "metadata": {},
     "output_type": "display_data"
    },
    {
     "data": {
      "text/html": [
       "<pre>| 0         | 1        | 1.000000  | 0.127898     | 0.499829          | 0.524713            |</pre>"
      ],
      "text/plain": [
       "| 0         | 1        | 1.000000  | 0.127898     | 0.499829          | 0.524713            |"
      ]
     },
     "metadata": {},
     "output_type": "display_data"
    },
    {
     "data": {
      "text/html": [
       "<pre>| 1         | 2        | 0.000008  | 3.504083     | 0.922250          | 0.862706            |</pre>"
      ],
      "text/plain": [
       "| 1         | 2        | 0.000008  | 3.504083     | 0.922250          | 0.862706            |"
      ]
     },
     "metadata": {},
     "output_type": "display_data"
    },
    {
     "data": {
      "text/html": [
       "<pre>| 2         | 3        | 0.000008  | 3.806792     | 0.964174          | 0.890664            |</pre>"
      ],
      "text/plain": [
       "| 2         | 3        | 0.000008  | 3.806792     | 0.964174          | 0.890664            |"
      ]
     },
     "metadata": {},
     "output_type": "display_data"
    },
    {
     "data": {
      "text/html": [
       "<pre>| 3         | 4        | 0.000005  | 4.233318     | 0.961808          | 0.883674            |</pre>"
      ],
      "text/plain": [
       "| 3         | 4        | 0.000005  | 4.233318     | 0.961808          | 0.883674            |"
      ]
     },
     "metadata": {},
     "output_type": "display_data"
    },
    {
     "data": {
      "text/html": [
       "<pre>| 4         | 5        | 0.000002  | 4.746242     | 0.976607          | 0.901648            |</pre>"
      ],
      "text/plain": [
       "| 4         | 5        | 0.000002  | 4.746242     | 0.976607          | 0.901648            |"
      ]
     },
     "metadata": {},
     "output_type": "display_data"
    },
    {
     "data": {
      "text/html": [
       "<pre>+-----------+----------+-----------+--------------+-------------------+---------------------+</pre>"
      ],
      "text/plain": [
       "+-----------+----------+-----------+--------------+-------------------+---------------------+"
      ]
     },
     "metadata": {},
     "output_type": "display_data"
    },
    {
     "data": {
      "text/html": [
       "<pre>SUCCESS: Optimal solution found.</pre>"
      ],
      "text/plain": [
       "SUCCESS: Optimal solution found."
      ]
     },
     "metadata": {},
     "output_type": "display_data"
    },
    {
     "data": {
      "text/html": [
       "<pre></pre>"
      ],
      "text/plain": []
     },
     "metadata": {},
     "output_type": "display_data"
    },
    {
     "name": "stdout",
     "output_type": "stream",
     "text": [
      "Training Dataset: \n",
      "\n",
      "Confusion Matrix: \n",
      " +--------------+-----------------+-------+\n",
      "| target_label | predicted_label | count |\n",
      "+--------------+-----------------+-------+\n",
      "|   positive   |     positive    | 19526 |\n",
      "|   positive   |     negative    |  541  |\n",
      "|   negative   |     negative    | 19435 |\n",
      "|   negative   |     positive    |  546  |\n",
      "+--------------+-----------------+-------+\n",
      "[4 rows x 3 columns]\n",
      "\n",
      "Accuracy: 0.9728575709149021\n",
      "Precision: 0.9727979274611399\n",
      "Recall: 0.9730403149449345\n",
      "F[1] Score: 0.9729191061062806\n",
      "AUC: 0.9957801803874944\n",
      "\n",
      " \n",
      "Validation Dataset: \n",
      "\n",
      "Confusion Matrix:\n",
      " +--------------+-----------------+-------+\n",
      "| target_label | predicted_label | count |\n",
      "+--------------+-----------------+-------+\n",
      "|   positive   |     positive    |  2274 |\n",
      "|   positive   |     negative    |  201  |\n",
      "|   negative   |     negative    |  2206 |\n",
      "|   negative   |     positive    |  315  |\n",
      "+--------------+-----------------+-------+\n",
      "[4 rows x 3 columns]\n",
      "\n",
      "Accuracy: 0.8967173738991193\n",
      "Precision: 0.8783314020857474\n",
      "Recall: 0.9187878787878788\n",
      "F[1] Score: 0.8981042654028437\n",
      "AUC: 0.9551338053281735\n"
     ]
    }
   ],
   "source": [
    "# 6) Repeat step 5 to create model2, but this time experiment with l1_penalty and l2_penalty hyperparameters to get a better model. (You can try other \n",
    "# hyperparameters too if you wish. See the documentation.) Keep printing out the metrics each time you try a new model, so that you can compare its performance to model1.\n",
    "\n",
    "model2 = tc.logistic_classifier.create(train_data, features=['words'], target='sentiment', l1_penalty=0.01, l2_penalty=0.5)\n",
    "\n",
    "train_pred_2 = model2.predict(train_data, output_type='probability')\n",
    "train_class_2 = model2.predict(train_data, output_type='class')\n",
    "\n",
    "# Training Dataset\n",
    "print('Training Dataset: \\n')\n",
    "print('Confusion Matrix: \\n', tc.evaluation.confusion_matrix(train_data['sentiment'], train_class_2))\n",
    "print('Accuracy:', tc.evaluation.accuracy(train_data['sentiment'], train_class_2))\n",
    "print('Precision:', tc.evaluation.precision(train_data['sentiment'], train_class_2))\n",
    "print('Recall:', tc.evaluation.recall(train_data['sentiment'], train_class_2))\n",
    "print('F[1] Score:', tc.evaluation.fbeta_score(train_data['sentiment'], train_class_2, beta=1))\n",
    "print('AUC:', tc.evaluation.auc(train_data['sentiment'], train_pred_2))\n",
    "\n",
    "val_pred_2 = model2.predict(val_data, output_type='probability')\n",
    "val_class_2 = model2.predict(val_data, output_type='class')\n",
    "\n",
    "# Validation Dataset\n",
    "print('\\n \\nValidation Dataset: \\n')\n",
    "print('Confusion Matrix:\\n', tc.evaluation.confusion_matrix(val_data['sentiment'], val_class_2))\n",
    "print('Accuracy:', tc.evaluation.accuracy(val_data['sentiment'], val_class_2))\n",
    "print('Precision:', tc.evaluation.precision(val_data['sentiment'], val_class_2))\n",
    "print('Recall:', tc.evaluation.recall(val_data['sentiment'], val_class_2))\n",
    "print('F[1] Score:', tc.evaluation.fbeta_score(val_data['sentiment'], val_class_2, beta=1))\n",
    "print('AUC:', tc.evaluation.auc(val_data['sentiment'], val_pred_2))"
   ]
  },
  {
   "cell_type": "code",
   "execution_count": 9,
   "id": "1decd10c-0a0a-4bba-96e4-f10e6dc73271",
   "metadata": {},
   "outputs": [],
   "source": [
    "# 7) Use markdown to select which of your two models is the best (or declare a tie); justify your choice by commenting on the metrics."
   ]
  },
  {
   "cell_type": "markdown",
   "id": "2cd101dd-226a-4f4c-920c-fe0507c674f8",
   "metadata": {},
   "source": [
    "**Explanation:**\n",
    "<pre>\n",
    "The model I chose is model2 with penalties of l1=0.01, and l2=0.5. Here is why I chose it:\n",
    "1. Evaluation metrics: Model2 maintains the highest turicreate evaluation metrics (accuracy, AUC, and F1 score) when compared to model2.\n",
    "   Percision and recall are also well-balanced, which, for this particular use case, makes it suitable since both FP and FN are equally important.\n",
    "2. Confusion matrix: The confusion matrix for model2 with l1=0.01 and l2=0.5 demonstrates fewer FN and FP compared to other configurations, and model1.\n",
    "\n",
    "To summarize, model2 with penalties of l1=0.01 and l2=0.5 achieves the best metrics and confusion matrix results, making it the best model for this use case.\n",
    "</pre>\n",
    "\n",
    "**Metrics for model1:**\n",
    "<pre>\n",
    "Training Set:                                        Validation Set:\n",
    "+--------------+-----------------+-------+           +--------------+-----------------+-------+\n",
    "| target_label | predicted_label | count |           | target_label | predicted_label | count |\n",
    "+--------------+-----------------+-------+           +--------------+-----------------+-------+\n",
    "|   positive   |     positive    | 19851 |           |   positive   |     positive    |  2186 |\n",
    "|   positive   |     negative    |  123  |           |   positive   |     negative    |  325  |\n",
    "|   negative   |     negative    | 19845 |           |   negative   |     negative    |  2240 |\n",
    "|   negative   |     positive    |  129  |           |   negative   |     positive    |  279  |\n",
    "+--------------+-----------------+-------+           +--------------+-----------------+-------+\n",
    "\n",
    "- Accuracy: 0.9936917993391409                       - Accuracy: 0.8799204771371769\n",
    "- Precision: 0.9935435435435436                      - Precision: 0.886815415821501\n",
    "- Recall: 0.9938419945929708                         - Recall: 0.8705694942254082\n",
    "- F1 Score: 0.9936927466586574                       - F1 Score: 0.8786173633440515\n",
    "- AUC: 0.9983207994163317                            - AUC: 0.9323156752606915\n",
    "</pre>\n",
    "\n",
    "\n",
    "**Metrics for model2 (L1=0.5, L2=0.1):**\n",
    "<pre>\n",
    "Training Set:                                        Validation Set:\n",
    "+--------------+-----------------+-------+           +--------------+-----------------+-------+\n",
    "| target_label | predicted_label | count |           | target_label | predicted_label | count |\n",
    "+--------------+-----------------+-------+           +--------------+-----------------+-------+\n",
    "|   positive   |     positive    | 19545 |           |   positive   |     positive    |  2288 |\n",
    "|   positive   |     negative    |  429  |           |   positive   |     negative    |  223  |\n",
    "|   negative   |     negative    | 19506 |           |   negative   |     negative    |  2222 |\n",
    "|   negative   |     positive    |  468  |           |   negative   |     positive    |  297  |\n",
    "+--------------+-----------------+-------+           +--------------+-----------------+-------+\n",
    "\n",
    "- Accuracy: 0.9775458095524181                       - Accuracy: 0.8966202783300199\n",
    "- Precision: 0.9766152001199221                      - Precision: 0.8851063829787233\n",
    "- Recall: 0.978522078702313                          - Recall: 0.9111907606531262\n",
    "- F1 Score: 0.9775677095055894                       - F1 Score: 0.8979591836734694\n",
    "- AUC: 0.9969633222698869                            - AUC: 0.9539597031497304\n",
    "</pre>\n",
    "\n",
    "**Metrics for model2 (L1=0.01, L2=0.5):**\n",
    "<pre>\n",
    "Training Set:                                        Validation Set:\n",
    "+--------------+-----------------+-------+           +--------------+-----------------+-------+\n",
    "| target_label | predicted_label | count |           | target_label | predicted_label | count |\n",
    "+--------------+-----------------+-------+           +--------------+-----------------+-------+\n",
    "|   positive   |     positive    | 19387 |           |   positive   |     positive    |  2225 |\n",
    "|   positive   |     negative    |  587  |           |   positive   |     negative    |  286  |\n",
    "|   negative   |     negative    | 19590 |           |   negative   |     negative    |  2290 |\n",
    "|   negative   |     positive    |  384  |           |   negative   |     positive    |  229  |\n",
    "+--------------+-----------------+-------+           +--------------+-----------------+-------+\n",
    "\n",
    "- Accuracy: 0.9756934014218483                       - Accuracy: 0.8976143141153081\n",
    "- Precision: 0.980577613676597                       - Precision: 0.9066829665851671\n",
    "- Recall: 0.9706117953339342                         - Recall: 0.8861011549183592\n",
    "- F1 Score: 0.9755692539942132                       - F1 Score: 0.8962739174219536\n",
    "- AUC: 0.9966686140265106                            - AUC: 0.9544284623638521\n",
    "</pre>\n",
    "\n",
    "\n",
    "**Metrics for model2 (L1=0.02, L2=0.02):**\n",
    "<pre>\n",
    "Training Set:                                        Validation Set:\n",
    "+--------------+-----------------+-------+           +--------------+-----------------+-------+\n",
    "| target_label | predicted_label | count |           | target_label | predicted_label | count |\n",
    "+--------------+-----------------+-------+           +--------------+-----------------+-------+\n",
    "|   positive   |     positive    | 19382 |           |   positive   |     positive    |  2259 |\n",
    "|   positive   |     negative    |  592  |           |   positive   |     negative    |  252  |\n",
    "|   negative   |     negative    | 19494 |           |   negative   |     negative    |  2251 |\n",
    "|   negative   |     positive    |  480  |           |   negative   |     positive    |  268  |\n",
    "+--------------+-----------------+-------+           +--------------+-----------------+-------+\n",
    "\n",
    "- Accuracy: 0.9731651146490438                       - Accuracy: 0.8966202783300199\n",
    "- Precision: 0.9758332494210049                      - Precision: 0.8939453897902652\n",
    "- Recall: 0.9703614699108841                         - Recall: 0.899641577060932\n",
    "- F1 Score: 0.973089667637313                        - F1 Score: 0.8967844382691543\n",
    "- AUC: 0.9960931751078139                            - AUC: 0.9530096950156123\n",
    "</pre>"
   ]
  },
  {
   "cell_type": "code",
   "execution_count": 10,
   "id": "666b3c3b-546b-42be-9c5c-966c60fadedc",
   "metadata": {},
   "outputs": [
    {
     "data": {
      "text/plain": [
       "'\\nExplanation:\\n\\nThe model I chose is model2 with penalties of l1=0.01, and l2=0.5. Here is why I chose it:\\n1. Evaluation metrics: Model2 maintains the highest turicreate evaluation metrics (accuracy, AUC, and F1 score) when compared to model2.\\n   Percision and recall are also well-balanced, which, for this particular use case, makes it suitable since both FP and FN are equally important.\\n2. Confusion matrix: The confusion matrix for model2 with l1=0.01 and l2=0.5 demonstrates fewer FN and FP compared to other configurations, and model1.\\n\\nTo summarize, model2 with penalties of l1=0.01 and l2=0.5 achieves the best metrics and confusion matrix results, making it the best model for this use case.\\nMetrics for model1:\\n\\nTraining Set:                                        Validation Set:\\n+--------------+-----------------+-------+           +--------------+-----------------+-------+\\n| target_label | predicted_label | count |           | target_label | predicted_label | count |\\n+--------------+-----------------+-------+           +--------------+-----------------+-------+\\n|   positive   |     positive    | 19851 |           |   positive   |     positive    |  2186 |\\n|   positive   |     negative    |  123  |           |   positive   |     negative    |  325  |\\n|   negative   |     negative    | 19845 |           |   negative   |     negative    |  2240 |\\n|   negative   |     positive    |  129  |           |   negative   |     positive    |  279  |\\n+--------------+-----------------+-------+           +--------------+-----------------+-------+\\n\\n- Accuracy: 0.9936917993391409                       - Accuracy: 0.8799204771371769\\n- Precision: 0.9935435435435436                      - Precision: 0.886815415821501\\n- Recall: 0.9938419945929708                         - Recall: 0.8705694942254082\\n- F1 Score: 0.9936927466586574                       - F1 Score: 0.8786173633440515\\n- AUC: 0.9983207994163317                            - AUC: 0.9323156752606915\\nMetrics for model2 (L1=0.5, L2=0.1):\\n\\nTraining Set:                                        Validation Set:\\n+--------------+-----------------+-------+           +--------------+-----------------+-------+\\n| target_label | predicted_label | count |           | target_label | predicted_label | count |\\n+--------------+-----------------+-------+           +--------------+-----------------+-------+\\n|   positive   |     positive    | 19545 |           |   positive   |     positive    |  2288 |\\n|   positive   |     negative    |  429  |           |   positive   |     negative    |  223  |\\n|   negative   |     negative    | 19506 |           |   negative   |     negative    |  2222 |\\n|   negative   |     positive    |  468  |           |   negative   |     positive    |  297  |\\n+--------------+-----------------+-------+           +--------------+-----------------+-------+\\n\\n- Accuracy: 0.9775458095524181                       - Accuracy: 0.8966202783300199\\n- Precision: 0.9766152001199221                      - Precision: 0.8851063829787233\\n- Recall: 0.978522078702313                          - Recall: 0.9111907606531262\\n- F1 Score: 0.9775677095055894                       - F1 Score: 0.8979591836734694\\n- AUC: 0.9969633222698869                            - AUC: 0.9539597031497304\\nMetrics for model2 (L1=0.01, L2=0.5):\\n\\nTraining Set:                                        Validation Set:\\n+--------------+-----------------+-------+           +--------------+-----------------+-------+\\n| target_label | predicted_label | count |           | target_label | predicted_label | count |\\n+--------------+-----------------+-------+           +--------------+-----------------+-------+\\n|   positive   |     positive    | 19387 |           |   positive   |     positive    |  2225 |\\n|   positive   |     negative    |  587  |           |   positive   |     negative    |  286  |\\n|   negative   |     negative    | 19590 |           |   negative   |     negative    |  2290 |\\n|   negative   |     positive    |  384  |           |   negative   |     positive    |  229  |\\n+--------------+-----------------+-------+           +--------------+-----------------+-------+\\n\\n- Accuracy: 0.9756934014218483                       - Accuracy: 0.8976143141153081\\n- Precision: 0.980577613676597                       - Precision: 0.9066829665851671\\n- Recall: 0.9706117953339342                         - Recall: 0.8861011549183592\\n- F1 Score: 0.9755692539942132                       - F1 Score: 0.8962739174219536\\n- AUC: 0.9966686140265106                            - AUC: 0.9544284623638521\\nMetrics for model2 (L1=0.02, L2=0.02):\\n\\nTraining Set:                                        Validation Set:\\n+--------------+-----------------+-------+           +--------------+-----------------+-------+\\n| target_label | predicted_label | count |           | target_label | predicted_label | count |\\n+--------------+-----------------+-------+           +--------------+-----------------+-------+\\n|   positive   |     positive    | 19382 |           |   positive   |     positive    |  2259 |\\n|   positive   |     negative    |  592  |           |   positive   |     negative    |  252  |\\n|   negative   |     negative    | 19494 |           |   negative   |     negative    |  2251 |\\n|   negative   |     positive    |  480  |           |   negative   |     positive    |  268  |\\n+--------------+-----------------+-------+           +--------------+-----------------+-------+\\n\\n- Accuracy: 0.9731651146490438                       - Accuracy: 0.8966202783300199\\n- Precision: 0.9758332494210049                      - Precision: 0.8939453897902652\\n- Recall: 0.9703614699108841                         - Recall: 0.899641577060932\\n- F1 Score: 0.973089667637313                        - F1 Score: 0.8967844382691543\\n- AUC: 0.9960931751078139                            - AUC: 0.9530096950156123\\n'"
      ]
     },
     "execution_count": 10,
     "metadata": {},
     "output_type": "execute_result"
    }
   ],
   "source": [
    "\"\"\"\n",
    "Explanation:\n",
    "\n",
    "The model I chose is model2 with penalties of l1=0.01, and l2=0.5. Here is why I chose it:\n",
    "1. Evaluation metrics: Model2 maintains the highest turicreate evaluation metrics (accuracy, AUC, and F1 score) when compared to model2.\n",
    "   Percision and recall are also well-balanced, which, for this particular use case, makes it suitable since both FP and FN are equally important.\n",
    "2. Confusion matrix: The confusion matrix for model2 with l1=0.01 and l2=0.5 demonstrates fewer FN and FP compared to other configurations, and model1.\n",
    "\n",
    "To summarize, model2 with penalties of l1=0.01 and l2=0.5 achieves the best metrics and confusion matrix results, making it the best model for this use case.\n",
    "Metrics for model1:\n",
    "\n",
    "Training Set:                                        Validation Set:\n",
    "+--------------+-----------------+-------+           +--------------+-----------------+-------+\n",
    "| target_label | predicted_label | count |           | target_label | predicted_label | count |\n",
    "+--------------+-----------------+-------+           +--------------+-----------------+-------+\n",
    "|   positive   |     positive    | 19851 |           |   positive   |     positive    |  2186 |\n",
    "|   positive   |     negative    |  123  |           |   positive   |     negative    |  325  |\n",
    "|   negative   |     negative    | 19845 |           |   negative   |     negative    |  2240 |\n",
    "|   negative   |     positive    |  129  |           |   negative   |     positive    |  279  |\n",
    "+--------------+-----------------+-------+           +--------------+-----------------+-------+\n",
    "\n",
    "- Accuracy: 0.9936917993391409                       - Accuracy: 0.8799204771371769\n",
    "- Precision: 0.9935435435435436                      - Precision: 0.886815415821501\n",
    "- Recall: 0.9938419945929708                         - Recall: 0.8705694942254082\n",
    "- F1 Score: 0.9936927466586574                       - F1 Score: 0.8786173633440515\n",
    "- AUC: 0.9983207994163317                            - AUC: 0.9323156752606915\n",
    "Metrics for model2 (L1=0.5, L2=0.1):\n",
    "\n",
    "Training Set:                                        Validation Set:\n",
    "+--------------+-----------------+-------+           +--------------+-----------------+-------+\n",
    "| target_label | predicted_label | count |           | target_label | predicted_label | count |\n",
    "+--------------+-----------------+-------+           +--------------+-----------------+-------+\n",
    "|   positive   |     positive    | 19545 |           |   positive   |     positive    |  2288 |\n",
    "|   positive   |     negative    |  429  |           |   positive   |     negative    |  223  |\n",
    "|   negative   |     negative    | 19506 |           |   negative   |     negative    |  2222 |\n",
    "|   negative   |     positive    |  468  |           |   negative   |     positive    |  297  |\n",
    "+--------------+-----------------+-------+           +--------------+-----------------+-------+\n",
    "\n",
    "- Accuracy: 0.9775458095524181                       - Accuracy: 0.8966202783300199\n",
    "- Precision: 0.9766152001199221                      - Precision: 0.8851063829787233\n",
    "- Recall: 0.978522078702313                          - Recall: 0.9111907606531262\n",
    "- F1 Score: 0.9775677095055894                       - F1 Score: 0.8979591836734694\n",
    "- AUC: 0.9969633222698869                            - AUC: 0.9539597031497304\n",
    "Metrics for model2 (L1=0.01, L2=0.5):\n",
    "\n",
    "Training Set:                                        Validation Set:\n",
    "+--------------+-----------------+-------+           +--------------+-----------------+-------+\n",
    "| target_label | predicted_label | count |           | target_label | predicted_label | count |\n",
    "+--------------+-----------------+-------+           +--------------+-----------------+-------+\n",
    "|   positive   |     positive    | 19387 |           |   positive   |     positive    |  2225 |\n",
    "|   positive   |     negative    |  587  |           |   positive   |     negative    |  286  |\n",
    "|   negative   |     negative    | 19590 |           |   negative   |     negative    |  2290 |\n",
    "|   negative   |     positive    |  384  |           |   negative   |     positive    |  229  |\n",
    "+--------------+-----------------+-------+           +--------------+-----------------+-------+\n",
    "\n",
    "- Accuracy: 0.9756934014218483                       - Accuracy: 0.8976143141153081\n",
    "- Precision: 0.980577613676597                       - Precision: 0.9066829665851671\n",
    "- Recall: 0.9706117953339342                         - Recall: 0.8861011549183592\n",
    "- F1 Score: 0.9755692539942132                       - F1 Score: 0.8962739174219536\n",
    "- AUC: 0.9966686140265106                            - AUC: 0.9544284623638521\n",
    "Metrics for model2 (L1=0.02, L2=0.02):\n",
    "\n",
    "Training Set:                                        Validation Set:\n",
    "+--------------+-----------------+-------+           +--------------+-----------------+-------+\n",
    "| target_label | predicted_label | count |           | target_label | predicted_label | count |\n",
    "+--------------+-----------------+-------+           +--------------+-----------------+-------+\n",
    "|   positive   |     positive    | 19382 |           |   positive   |     positive    |  2259 |\n",
    "|   positive   |     negative    |  592  |           |   positive   |     negative    |  252  |\n",
    "|   negative   |     negative    | 19494 |           |   negative   |     negative    |  2251 |\n",
    "|   negative   |     positive    |  480  |           |   negative   |     positive    |  268  |\n",
    "+--------------+-----------------+-------+           +--------------+-----------------+-------+\n",
    "\n",
    "- Accuracy: 0.9731651146490438                       - Accuracy: 0.8966202783300199\n",
    "- Precision: 0.9758332494210049                      - Precision: 0.8939453897902652\n",
    "- Recall: 0.9703614699108841                         - Recall: 0.899641577060932\n",
    "- F1 Score: 0.973089667637313                        - F1 Score: 0.8967844382691543\n",
    "- AUC: 0.9960931751078139                            - AUC: 0.9530096950156123\n",
    "\"\"\""
   ]
  },
  {
   "cell_type": "code",
   "execution_count": 11,
   "id": "bb6d297f-7461-4bb3-b442-ea43926b6319",
   "metadata": {},
   "outputs": [
    {
     "name": "stdout",
     "output_type": "stream",
     "text": [
      "Test Dataset: \n",
      "\n",
      "Confusion Matrix: \n",
      " +--------------+-----------------+-------+\n",
      "| target_label | predicted_label | count |\n",
      "+--------------+-----------------+-------+\n",
      "|   negative   |     negative    |  2203 |\n",
      "|   positive   |     negative    |  214  |\n",
      "|   positive   |     positive    |  2244 |\n",
      "|   negative   |     positive    |  295  |\n",
      "+--------------+-----------------+-------+\n",
      "[4 rows x 3 columns]\n",
      "\n",
      "Accuracy: 0.8972962066182405\n",
      "Precision: 0.8838125246159906\n",
      "Recall: 0.9129373474369405\n",
      "F[1] Score: 0.898138883329998\n",
      "AUC: 0.952799912835069\n",
      "\n",
      "\n",
      "ROC curve points with specificity:\n",
      " +-----------+--------------------+-----+------+------+----------------------+\n",
      "| threshold |        fpr         | tpr |  p   |  n   |     specificity      |\n",
      "+-----------+--------------------+-----+------+------+----------------------+\n",
      "|    0.0    |        1.0         | 1.0 | 2458 | 2498 |         0.0          |\n",
      "|   0.001   | 0.9955964771817454 | 1.0 | 2458 | 2498 | 0.004403522818254624 |\n",
      "|   0.002   | 0.9935948759007206 | 1.0 | 2458 | 2498 | 0.006405124099279402 |\n",
      "|   0.003   | 0.9919935948759008 | 1.0 | 2458 | 2498 | 0.008006405124099225 |\n",
      "|   0.004   | 0.9899919935948759 | 1.0 | 2458 | 2498 | 0.010008006405124115 |\n",
      "|   0.005   | 0.9883907125700561 | 1.0 | 2458 | 2498 | 0.011609287429943937 |\n",
      "|   0.006   | 0.9859887910328262 | 1.0 | 2458 | 2498 | 0.014011208967173783 |\n",
      "|   0.007   | 0.9819855884707767 | 1.0 | 2458 | 2498 | 0.01801441152922334  |\n",
      "|   0.008   | 0.9811849479583667 | 1.0 | 2458 | 2498 | 0.01881505204163325  |\n",
      "|   0.009   | 0.9791833466773419 | 1.0 | 2458 | 2498 | 0.02081665332265814  |\n",
      "+-----------+--------------------+-----+------+------+----------------------+\n",
      "[1001 rows x 6 columns]\n",
      "Note: Only the head of the SFrame is printed.\n",
      "You can use print_rows(num_rows=m, num_columns=n) to print more rows and columns.\n"
     ]
    },
    {
     "data": {
      "image/png": "[encoded data removed]",
      "text/plain": [
       "<Figure size 640x480 with 1 Axes>"
      ]
     },
     "metadata": {},
     "output_type": "display_data"
    }
   ],
   "source": [
    "# 8) Using the test set, calculate and display:\n",
    "#  · accuracy\n",
    "#  · confusion matrix\n",
    "#  · Fβ score\n",
    "#  · AUC\n",
    "# Also, obtain an SFrame holding the ROC curve points using tc.evaluation.roc_curve(). You will need to convert the false positive rate into specificity. \n",
    "# Use matplotlib to create a labeled ROC curve.\n",
    "\n",
    "test_pred_2 = model2.predict(test_data, output_type='probability')\n",
    "test_class_2 = model2.predict(test_data, output_type='class')\n",
    "\n",
    "print('Test Dataset: \\n')\n",
    "print('Confusion Matrix: \\n', tc.evaluation.confusion_matrix(test_data['sentiment'], test_class_2))\n",
    "print('Accuracy:', tc.evaluation.accuracy(test_data['sentiment'], test_class_2))\n",
    "print('Precision:', tc.evaluation.precision(test_data['sentiment'], test_class_2))\n",
    "print('Recall:', tc.evaluation.recall(test_data['sentiment'], test_class_2))\n",
    "print('F[1] Score:', tc.evaluation.fbeta_score(test_data['sentiment'], test_class_2, beta=1))\n",
    "print('AUC:', tc.evaluation.auc(test_data['sentiment'], test_pred_2))\n",
    "\n",
    "#ROC curve points:\n",
    "roc_points = tc.evaluation.roc_curve(test_data['sentiment'], test_pred_2)\n",
    "roc_points['specificity'] = 1 - roc_points['fpr']\n",
    "print('\\n\\nROC curve points with specificity:\\n', roc_points)\n",
    "\n",
    "plt.plot(roc_points['specificity'], marker = 'o', label='ROC Curve')\n",
    "plt.xlabel('False Positive Rate')\n",
    "plt.ylabel('True Positive Rate')\n",
    "plt.title('ROC Curve')\n",
    "plt.legend()\n",
    "plt.grid()\n",
    "plt.show()"
   ]
  },
  {
   "cell_type": "code",
   "execution_count": null,
   "id": "8ed99785-19ed-4030-bd6b-74ba4aab1361",
   "metadata": {},
   "outputs": [],
   "source": []
  }
 ],
 "metadata": {
  "kernelspec": {
   "display_name": "Python 3 (ipykernel)",
   "language": "python",
   "name": "python3"
  },
  "language_info": {
   "codemirror_mode": {
    "name": "ipython",
    "version": 3
   },
   "file_extension": ".py",
   "mimetype": "text/x-python",
   "name": "python",
   "nbconvert_exporter": "python",
   "pygments_lexer": "ipython3",
   "version": "3.8.20"
  }
 },
 "nbformat": 4,
 "nbformat_minor": 5
}
