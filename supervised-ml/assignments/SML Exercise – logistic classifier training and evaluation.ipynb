{
 "cells": [
  {
   "cell_type": "markdown",
   "id": "80789bff-2b69-4bb1-ab56-971da8a0f045",
   "metadata": {},
   "source": [
    "# SML Exercise – logistic classifier training and evaluation"
   ]
  },
  {
   "cell_type": "code",
   "execution_count": 1,
   "id": "bb259de9-dcd5-44fb-b9c3-d2f89a2e1321",
   "metadata": {},
   "outputs": [],
   "source": [
    "# Imports:\n",
    "import turicreate as tc\n",
    "import re\n",
    "#import log_reg_utils.py as lru\n",
    "\n",
    "import numpy as np\n",
    "from matplotlib import pyplot as plt"
   ]
  },
  {
   "cell_type": "code",
   "execution_count": 2,
   "id": "69e412ef-7921-4a9d-bf7b-f02be7d9d4b6",
   "metadata": {},
   "outputs": [],
   "source": [
    "# 1) Copy all of the functions you wrote for ‘Exercise – coding logistic regression’ into a text file named ‘log_reg_utils.py’. \n",
    "# Upload the file into the same folder as your notebook for this exercise. Import log_reg_utils.py into the notebook as ‘lru’.\n",
    "import log_reg_utils as lru"
   ]
  },
  {
   "cell_type": "code",
   "execution_count": 3,
   "id": "8cffd6a1-4f1f-4d8a-8d93-0f4451f7ffb9",
   "metadata": {},
   "outputs": [],
   "source": [
    "# 2) Write a function called ‘clean’ that uses the ‘re’ library according to the following pseudocode:\n",
    "# Input: a string\n",
    "# Output: a cleaned string\n",
    "# Procedure:\n",
    "#  · Remove digits\n",
    "#  · Remove html tags\n",
    "#  · Remove punctuation\n",
    "#  · Lower case\n",
    "#  · Output the cleaned string\n",
    "\n",
    "def clean(sample):\n",
    "    sample = re.sub('\\d', '', sample)\n",
    "    sample = re.sub('<.{1,4}>', ' ', sample)\n",
    "    sample = re.sub('[^\\w\\s]', ' ', sample)\n",
    "    sample = sample.lower()\n",
    "    return sample"
   ]
  },
  {
   "cell_type": "code",
   "execution_count": 4,
   "id": "2ac03e11-60c8-4f19-b30c-5cc56ed4636e",
   "metadata": {},
   "outputs": [],
   "source": [
    "# 3) Write a function called ‘count_words’ according to the following pseudocode:\n",
    "# Input: a list of words words\n",
    "# Output: a list of counts [bc, fc, zc]\n",
    "# Procedure:\n",
    "#  · Initialize bc = 0, fc = 0, zc = 0\n",
    "#  · For word in words:\n",
    "#     · If word == ‘blip’, bc +=1\n",
    "#     · If word == ‘florp’, fc +=1\n",
    "#     · If word == ‘zorg’, zc +=1\n",
    "#  · Return the list [bc, fc, zc]\n",
    "\n",
    "def count_words(words):\n",
    "    bc = 0\n",
    "    fc = 0\n",
    "    zc = 0\n",
    "    for word in words:\n",
    "        if word == 'blip': bc+=1\n",
    "        if word == 'florp': fc += 1\n",
    "        if word == 'zorg': zc += 1\n",
    "    return [bc, fc, zc]"
   ]
  },
  {
   "cell_type": "code",
   "execution_count": 5,
   "id": "7b391ea6-75cf-46ae-9ed5-da5c82779ccd",
   "metadata": {},
   "outputs": [],
   "source": [
    "# 4) Prepare data for input:\n",
    "# Hardcode the data\n",
    "# Use your clean() function to clean your data.\n",
    "# Use the string method split() to tokenize each sentence.\n",
    "# Use your count_word() function to obtain an input vector for each sample.\n",
    "\n",
    "data = ['Zorg florp! blip florp^2 zOrg florp',\n",
    "'Blip (florP zOrg) florp zorg 37 florp zorg florp!?!',\n",
    "'Blip zorg florp [blip] florp zOrg blip zorg florp',\n",
    "'Florp zorg bLip florp zOrg florp zorg florp zorg florp',\n",
    "'Zorg, florp blip florp zOrg florp zorg Zorg <br> florp zOrg florp',\n",
    "'Blip florp. zorg florp zOrg florp zorg blip zOrg',\n",
    "'Zorg florp blip <br> floRp zOrg florp zorg florp zorg florp zOrg florp',\n",
    "'Blip florp 5 zOrg florp zorg florp *zOrg* florp zorg florp zorg florp',\n",
    "'Florp blip florp zOrg? florp zorg florp 0.11 Zorg florp zOrg florp zorg',\n",
    "'Blip zorg florp zorg “FLorp zOrg florp ZORg” -- florp zOrg florp zorg floRP.']\n",
    "Y = np.array([1, 0, 1, 1, 0, 1, 0, 0, 0, 1])\n",
    "\n",
    "\n",
    "cleaned_data = [clean(sample) for sample in data]\n",
    "tokens = [sentence.split() for sentence in cleaned_data]\n",
    "input_vectors = np.array([count_words(word_list) for word_list in tokens])\n",
    "#input_vectors"
   ]
  },
  {
   "cell_type": "code",
   "execution_count": 6,
   "id": "d16ecd34-ca8b-4547-900d-ebb1e45c67e5",
   "metadata": {},
   "outputs": [],
   "source": [
    "# 5) Train a logistic classifier using the logistic_regression function in your log_reg_utils.py file and save the weights and bias (you won’t need the errors).\n",
    "\n",
    "w, b, _ = lru.logistic_regression(input_vectors, Y)"
   ]
  },
  {
   "cell_type": "code",
   "execution_count": 7,
   "id": "689f4e75-d77f-4425-a208-87bb47a0f6ae",
   "metadata": {},
   "outputs": [],
   "source": [
    "# 6) Use your logistic classifier and the ‘sigmoid’ function to obtain a list of probabilities P, one for each sample.\n",
    "\n",
    "\n",
    "P = np.array([lru.sigmoid(np.dot(vector, w) + b) for vector in input_vectors])"
   ]
  },
  {
   "cell_type": "code",
   "execution_count": 8,
   "id": "33f009dc-d129-488c-82a2-c8d5d85cd6bb",
   "metadata": {},
   "outputs": [],
   "source": [
    "# 7) Write a function called ‘predict’ according to the following pseudocode:\n",
    "# Input: a list of probabilities P, a threshold with default value 𝑡=0.5\n",
    "# Output: a list Y_hat of predictions (0 or 1)\n",
    "# Procedure:\n",
    "#  · Create an empty list Y_hat\n",
    "#  · For each p in P:\n",
    "#     · If 𝑝≥𝑡 append 1 to Y_hat\n",
    "#     · Otherwise, append 0 to Y_hat\n",
    "#  · Return the list Y_hat\n",
    "\n",
    "def predict(P, t=0.5):\n",
    "    Y_hat = []\n",
    "    for p in P:\n",
    "        if p >= t: Y_hat.append(1)\n",
    "        else: Y_hat.append(0)\n",
    "    return Y_hat"
   ]
  },
  {
   "cell_type": "code",
   "execution_count": 9,
   "id": "2f909250-fcdc-4478-acf3-f8129db624a2",
   "metadata": {},
   "outputs": [],
   "source": [
    "# 8) Write a function called ‘roc_point’ according to the following pseudocode:\n",
    "# Input: a list of predictions Y_hat, a list of labels Y\n",
    "# Output: sensitivity and specificity\n",
    "# Procedure:\n",
    "#  · Find the number of TP, FP, TN, FN\n",
    "#  · Calculate and return the sensitivity and specificity\n",
    "\n",
    "def roc_point(Y_hat, Y):\n",
    "    TP = sum(1 for yh, y in zip(Y_hat, Y) if yh == 1 and y == 1)\n",
    "    FP = sum(1 for yh, y in zip(Y_hat, Y) if yh == 1 and y == 0)\n",
    "    TN = sum(1 for yh, y in zip(Y_hat, Y) if yh == 0 and y == 0)\n",
    "    FN = sum(1 for yh, y in zip(Y_hat, Y) if yh == 0 and y == 1) \n",
    "\n",
    "    sensitivity = TP / (TP + TN) if (TP + TN) > 0 else 0\n",
    "    specificity = TN / (TN + FP) if (TN + FP) > 0 else 0\n",
    "    return sensitivity, specificity"
   ]
  },
  {
   "cell_type": "code",
   "execution_count": 10,
   "id": "7f7c40d7-d436-4763-883b-08fa5ef1bf02",
   "metadata": {},
   "outputs": [
    {
     "data": {
      "image/png": "[encoded data removed]",
      "text/plain": [
       "<Figure size 640x480 with 1 Axes>"
      ]
     },
     "metadata": {},
     "output_type": "display_data"
    }
   ],
   "source": [
    "# 9) Plot the ROC curve by doing the following:\n",
    "# Create empty lists x_roc and y_roc.\n",
    "# For t in np.linspace(0,1,101):\n",
    "#  · Use predict() to obtain a list of predictions Y_hat\n",
    "#  · Use roc_point() to obtain the sensitivity and specificity\n",
    "#  · Append the sensitivity to x_roc, append the specificity to y_roc\n",
    "# Use matplotlib to create the roc_curve from x_roc and y_roc. Give the plot a title and label the axes.\n",
    "\n",
    "x_roc = []\n",
    "y_roc = []\n",
    "\n",
    "for t in np.linspace(0, 1, 101):\n",
    "    Y_hat = predict(P, t)\n",
    "    sensitivity, specificity = roc_point(Y_hat, Y)\n",
    "    x_roc.append(sensitivity)\n",
    "    y_roc.append(specificity)\n",
    "\n",
    "plt.plot(x_roc, y_roc, marker = 'o', label='ROC Curve')\n",
    "plt.xlabel('False Positive Rate')\n",
    "plt.ylabel('True Positive Rate')\n",
    "plt.title('ROC Curve')\n",
    "plt.legend()\n",
    "plt.grid()\n",
    "plt.show()"
   ]
  },
  {
   "cell_type": "code",
   "execution_count": null,
   "id": "62fbc708-ce4f-4f9f-9e90-9a1aa7561651",
   "metadata": {},
   "outputs": [],
   "source": []
  }
 ],
 "metadata": {
  "kernelspec": {
   "display_name": "Python 3 (ipykernel)",
   "language": "python",
   "name": "python3"
  },
  "language_info": {
   "codemirror_mode": {
    "name": "ipython",
    "version": 3
   },
   "file_extension": ".py",
   "mimetype": "text/x-python",
   "name": "python",
   "nbconvert_exporter": "python",
   "pygments_lexer": "ipython3",
   "version": "3.8.20"
  }
 },
 "nbformat": 4,
 "nbformat_minor": 5
}
