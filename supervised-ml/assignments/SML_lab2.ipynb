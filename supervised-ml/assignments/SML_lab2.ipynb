{
 "cells": [
  {
   "cell_type": "markdown",
   "id": "73445b16-5a01-400c-9902-d6fc028bf38b",
   "metadata": {},
   "source": [
    "# SML Lab 2 - Polynomial Regression"
   ]
  },
  {
   "cell_type": "code",
   "execution_count": 1,
   "id": "01622d21-dea5-4829-a3a6-929c8bd23a62",
   "metadata": {},
   "outputs": [],
   "source": [
    "# Imports:\n",
    "import turicreate as tc\n",
    "from sklearn.model_selection import train_test_split"
   ]
  },
  {
   "cell_type": "code",
   "execution_count": 2,
   "id": "9d242a8c-63b0-4264-8c5e-00ab383af4fd",
   "metadata": {
    "scrolled": true
   },
   "outputs": [
    {
     "data": {
      "text/html": [
       "<pre>Finished parsing file /home/mgalinsky/SML/Lab2/RVT.csv</pre>"
      ],
      "text/plain": [
       "Finished parsing file /home/mgalinsky/SML/Lab2/RVT.csv"
      ]
     },
     "metadata": {},
     "output_type": "display_data"
    },
    {
     "name": "stdout",
     "output_type": "stream",
     "text": [
      "------------------------------------------------------\n",
      "Inferred types from first 100 line(s) of file as \n",
      "column_type_hints=[int,float,float,float]\n",
      "If parsing fails due to incorrect types, you can correct\n",
      "the inferred type list above and pass it to read_csv in\n",
      "the column_type_hints argument\n",
      "------------------------------------------------------\n"
     ]
    },
    {
     "data": {
      "text/html": [
       "<pre>Parsing completed. Parsed 100 lines in 0.04666 secs.</pre>"
      ],
      "text/plain": [
       "Parsing completed. Parsed 100 lines in 0.04666 secs."
      ]
     },
     "metadata": {},
     "output_type": "display_data"
    },
    {
     "data": {
      "text/html": [
       "<pre>Finished parsing file /home/mgalinsky/SML/Lab2/RVT.csv</pre>"
      ],
      "text/plain": [
       "Finished parsing file /home/mgalinsky/SML/Lab2/RVT.csv"
      ]
     },
     "metadata": {},
     "output_type": "display_data"
    },
    {
     "data": {
      "text/html": [
       "<pre>Parsing completed. Parsed 100 lines in 0.012579 secs.</pre>"
      ],
      "text/plain": [
       "Parsing completed. Parsed 100 lines in 0.012579 secs."
      ]
     },
     "metadata": {},
     "output_type": "display_data"
    },
    {
     "data": {
      "text/html": [
       "<div style=\"max-height:1000px;max-width:1500px;overflow:auto;\"><table frame=\"box\" rules=\"cols\">\n",
       "    <tr>\n",
       "        <th style=\"padding-left: 1em; padding-right: 1em; text-align: center\">X1</th>\n",
       "        <th style=\"padding-left: 1em; padding-right: 1em; text-align: center\">R</th>\n",
       "        <th style=\"padding-left: 1em; padding-right: 1em; text-align: center\">V</th>\n",
       "        <th style=\"padding-left: 1em; padding-right: 1em; text-align: center\">T</th>\n",
       "    </tr>\n",
       "    <tr>\n",
       "        <td style=\"padding-left: 1em; padding-right: 1em; text-align: center; vertical-align: top\">0</td>\n",
       "        <td style=\"padding-left: 1em; padding-right: 1em; text-align: center; vertical-align: top\">81.75974500157666</td>\n",
       "        <td style=\"padding-left: 1em; padding-right: 1em; text-align: center; vertical-align: top\">-3.17337489125203</td>\n",
       "        <td style=\"padding-left: 1em; padding-right: 1em; text-align: center; vertical-align: top\">29.467842680840494</td>\n",
       "    </tr>\n",
       "    <tr>\n",
       "        <td style=\"padding-left: 1em; padding-right: 1em; text-align: center; vertical-align: top\">1</td>\n",
       "        <td style=\"padding-left: 1em; padding-right: 1em; text-align: center; vertical-align: top\">70.53346486050641</td>\n",
       "        <td style=\"padding-left: 1em; padding-right: 1em; text-align: center; vertical-align: top\">-4.765524444590707</td>\n",
       "        <td style=\"padding-left: 1em; padding-right: 1em; text-align: center; vertical-align: top\">-7.601876111180856</td>\n",
       "    </tr>\n",
       "    <tr>\n",
       "        <td style=\"padding-left: 1em; padding-right: 1em; text-align: center; vertical-align: top\">2</td>\n",
       "        <td style=\"padding-left: 1em; padding-right: 1em; text-align: center; vertical-align: top\">41.93519103947173</td>\n",
       "        <td style=\"padding-left: 1em; padding-right: 1em; text-align: center; vertical-align: top\">-0.22524276662245768</td>\n",
       "        <td style=\"padding-left: 1em; padding-right: 1em; text-align: center; vertical-align: top\">16.462177210720117</td>\n",
       "    </tr>\n",
       "    <tr>\n",
       "        <td style=\"padding-left: 1em; padding-right: 1em; text-align: center; vertical-align: top\">3</td>\n",
       "        <td style=\"padding-left: 1em; padding-right: 1em; text-align: center; vertical-align: top\">28.54727888717895</td>\n",
       "        <td style=\"padding-left: 1em; padding-right: 1em; text-align: center; vertical-align: top\">4.055789636035739</td>\n",
       "        <td style=\"padding-left: 1em; padding-right: 1em; text-align: center; vertical-align: top\">4.3350445142063565</td>\n",
       "    </tr>\n",
       "    <tr>\n",
       "        <td style=\"padding-left: 1em; padding-right: 1em; text-align: center; vertical-align: top\">4</td>\n",
       "        <td style=\"padding-left: 1em; padding-right: 1em; text-align: center; vertical-align: top\">1.866856419290297</td>\n",
       "        <td style=\"padding-left: 1em; padding-right: 1em; text-align: center; vertical-align: top\">1.5604743994854564</td>\n",
       "        <td style=\"padding-left: 1em; padding-right: 1em; text-align: center; vertical-align: top\">-2.1748995696120916</td>\n",
       "    </tr>\n",
       "    <tr>\n",
       "        <td style=\"padding-left: 1em; padding-right: 1em; text-align: center; vertical-align: top\">5</td>\n",
       "        <td style=\"padding-left: 1em; padding-right: 1em; text-align: center; vertical-align: top\">5.482682848873466</td>\n",
       "        <td style=\"padding-left: 1em; padding-right: 1em; text-align: center; vertical-align: top\">-2.4269979856718593</td>\n",
       "        <td style=\"padding-left: 1em; padding-right: 1em; text-align: center; vertical-align: top\">-5.908776805668268</td>\n",
       "    </tr>\n",
       "    <tr>\n",
       "        <td style=\"padding-left: 1em; padding-right: 1em; text-align: center; vertical-align: top\">6</td>\n",
       "        <td style=\"padding-left: 1em; padding-right: 1em; text-align: center; vertical-align: top\">25.505202346164136</td>\n",
       "        <td style=\"padding-left: 1em; padding-right: 1em; text-align: center; vertical-align: top\">0.02583035845730297</td>\n",
       "        <td style=\"padding-left: 1em; padding-right: 1em; text-align: center; vertical-align: top\">6.834325974774764</td>\n",
       "    </tr>\n",
       "    <tr>\n",
       "        <td style=\"padding-left: 1em; padding-right: 1em; text-align: center; vertical-align: top\">7</td>\n",
       "        <td style=\"padding-left: 1em; padding-right: 1em; text-align: center; vertical-align: top\">89.53883755482829</td>\n",
       "        <td style=\"padding-left: 1em; padding-right: 1em; text-align: center; vertical-align: top\">-2.956148498433293</td>\n",
       "        <td style=\"padding-left: 1em; padding-right: 1em; text-align: center; vertical-align: top\">43.958160132230475</td>\n",
       "    </tr>\n",
       "    <tr>\n",
       "        <td style=\"padding-left: 1em; padding-right: 1em; text-align: center; vertical-align: top\">8</td>\n",
       "        <td style=\"padding-left: 1em; padding-right: 1em; text-align: center; vertical-align: top\">37.20709101449364</td>\n",
       "        <td style=\"padding-left: 1em; padding-right: 1em; text-align: center; vertical-align: top\">-0.7465745712509309</td>\n",
       "        <td style=\"padding-left: 1em; padding-right: 1em; text-align: center; vertical-align: top\">9.768672734348904</td>\n",
       "    </tr>\n",
       "    <tr>\n",
       "        <td style=\"padding-left: 1em; padding-right: 1em; text-align: center; vertical-align: top\">9</td>\n",
       "        <td style=\"padding-left: 1em; padding-right: 1em; text-align: center; vertical-align: top\">0.8923460414945406</td>\n",
       "        <td style=\"padding-left: 1em; padding-right: 1em; text-align: center; vertical-align: top\">4.807160015680399</td>\n",
       "        <td style=\"padding-left: 1em; padding-right: 1em; text-align: center; vertical-align: top\">-24.039518973155182</td>\n",
       "    </tr>\n",
       "</table>\n",
       "[100 rows x 4 columns]<br/>Note: Only the head of the SFrame is printed.<br/>You can use print_rows(num_rows=m, num_columns=n) to print more rows and columns.\n",
       "</div>"
      ],
      "text/plain": [
       "Columns:\n",
       "\tX1\tint\n",
       "\tR\tfloat\n",
       "\tV\tfloat\n",
       "\tT\tfloat\n",
       "\n",
       "Rows: 100\n",
       "\n",
       "Data:\n",
       "+----+--------------------+----------------------+---------------------+\n",
       "| X1 |         R          |          V           |          T          |\n",
       "+----+--------------------+----------------------+---------------------+\n",
       "| 0  | 81.75974500157666  |  -3.17337489125203   |  29.467842680840494 |\n",
       "| 1  | 70.53346486050641  |  -4.765524444590707  |  -7.601876111180856 |\n",
       "| 2  | 41.93519103947173  | -0.22524276662245768 |  16.462177210720117 |\n",
       "| 3  | 28.54727888717895  |  4.055789636035739   |  4.3350445142063565 |\n",
       "| 4  | 1.866856419290297  |  1.5604743994854564  | -2.1748995696120916 |\n",
       "| 5  | 5.482682848873466  | -2.4269979856718593  |  -5.908776805668268 |\n",
       "| 6  | 25.505202346164136 | 0.02583035845730297  |  6.834325974774764  |\n",
       "| 7  | 89.53883755482829  |  -2.956148498433293  |  43.958160132230475 |\n",
       "| 8  | 37.20709101449364  | -0.7465745712509309  |  9.768672734348904  |\n",
       "| 9  | 0.8923460414945406 |  4.807160015680399   | -24.039518973155182 |\n",
       "+----+--------------------+----------------------+---------------------+\n",
       "[100 rows x 4 columns]\n",
       "Note: Only the head of the SFrame is printed.\n",
       "You can use print_rows(num_rows=m, num_columns=n) to print more rows and columns."
      ]
     },
     "execution_count": 2,
     "metadata": {},
     "output_type": "execute_result"
    }
   ],
   "source": [
    "# 1) Load the datafile RVT.csv into an SFrame.\n",
    "data = tc.SFrame('RVT.csv')\n",
    "data"
   ]
  },
  {
   "cell_type": "code",
   "execution_count": 3,
   "id": "6bfc7186-7490-4f26-bfa1-5d8e008a2d12",
   "metadata": {},
   "outputs": [],
   "source": [
    "# 2) Add columns to the dataset to hold powers of ‘R’ and ‘V’ terms for a polynomial of order 3.  \n",
    "# Split the data so that 70% is used for training, 20% for validation, and 10% for testing.\n",
    "data_df = data.to_dataframe()\n",
    "\n",
    "data_df['R^2'] = data_df['R'] ** 2\n",
    "data_df['R^3'] = data_df['R'] ** 3\n",
    "data_df['V^2'] = data_df['V'] ** 2\n",
    "data_df['V^3'] = data_df['V'] ** 3\n",
    "data_df['R*V'] = data_df['R'] * data_df['V']\n",
    "data_df['R^2*V'] = data_df['R'] ** 2 * data_df['V']\n",
    "data_df['R*V^2'] = data_df['R'] * data_df['V'] ** 2\n",
    "\n",
    "train_df, remaining_df = train_test_split(data_df, train_size=0.7, random_state=42)\n",
    "val_df, test_df = train_test_split(remaining_df, train_size=2/3, random_state=42)\n",
    "\n",
    "\n",
    "train_data = tc.SFrame(train_df)\n",
    "val_data = tc.SFrame(val_df)\n",
    "test_data = tc.SFrame(test_df)"
   ]
  },
  {
   "cell_type": "code",
   "execution_count": 4,
   "id": "c7ef1996-b96e-4f5f-ba8b-f6f16488e40a",
   "metadata": {
    "scrolled": true
   },
   "outputs": [
    {
     "data": {
      "text/html": [
       "<pre>Linear regression:</pre>"
      ],
      "text/plain": [
       "Linear regression:"
      ]
     },
     "metadata": {},
     "output_type": "display_data"
    },
    {
     "data": {
      "text/html": [
       "<pre>--------------------------------------------------------</pre>"
      ],
      "text/plain": [
       "--------------------------------------------------------"
      ]
     },
     "metadata": {},
     "output_type": "display_data"
    },
    {
     "data": {
      "text/html": [
       "<pre>Number of examples          : 70</pre>"
      ],
      "text/plain": [
       "Number of examples          : 70"
      ]
     },
     "metadata": {},
     "output_type": "display_data"
    },
    {
     "data": {
      "text/html": [
       "<pre>Number of features          : 2</pre>"
      ],
      "text/plain": [
       "Number of features          : 2"
      ]
     },
     "metadata": {},
     "output_type": "display_data"
    },
    {
     "data": {
      "text/html": [
       "<pre>Number of unpacked features : 2</pre>"
      ],
      "text/plain": [
       "Number of unpacked features : 2"
      ]
     },
     "metadata": {},
     "output_type": "display_data"
    },
    {
     "data": {
      "text/html": [
       "<pre>Number of coefficients    : 3</pre>"
      ],
      "text/plain": [
       "Number of coefficients    : 3"
      ]
     },
     "metadata": {},
     "output_type": "display_data"
    },
    {
     "data": {
      "text/html": [
       "<pre>Starting Newton Method</pre>"
      ],
      "text/plain": [
       "Starting Newton Method"
      ]
     },
     "metadata": {},
     "output_type": "display_data"
    },
    {
     "data": {
      "text/html": [
       "<pre>--------------------------------------------------------</pre>"
      ],
      "text/plain": [
       "--------------------------------------------------------"
      ]
     },
     "metadata": {},
     "output_type": "display_data"
    },
    {
     "data": {
      "text/html": [
       "<pre>+-----------+----------+--------------+--------------------+---------------------------------+</pre>"
      ],
      "text/plain": [
       "+-----------+----------+--------------+--------------------+---------------------------------+"
      ]
     },
     "metadata": {},
     "output_type": "display_data"
    },
    {
     "data": {
      "text/html": [
       "<pre>| Iteration | Passes   | Elapsed Time | Training Max Error | Training Root-Mean-Square Error |</pre>"
      ],
      "text/plain": [
       "| Iteration | Passes   | Elapsed Time | Training Max Error | Training Root-Mean-Square Error |"
      ]
     },
     "metadata": {},
     "output_type": "display_data"
    },
    {
     "data": {
      "text/html": [
       "<pre>+-----------+----------+--------------+--------------------+---------------------------------+</pre>"
      ],
      "text/plain": [
       "+-----------+----------+--------------+--------------------+---------------------------------+"
      ]
     },
     "metadata": {},
     "output_type": "display_data"
    },
    {
     "name": "stdout",
     "output_type": "stream",
     "text": [
      "Training error (rmse): 12.577252722009018\n"
     ]
    },
    {
     "data": {
      "text/html": [
       "<pre>| 1         | 2        | 1.001968     | 28.683652          | 12.577253                       |</pre>"
      ],
      "text/plain": [
       "| 1         | 2        | 1.001968     | 28.683652          | 12.577253                       |"
      ]
     },
     "metadata": {},
     "output_type": "display_data"
    },
    {
     "name": "stdout",
     "output_type": "stream",
     "text": [
      "Validation error (rmse): 12.718368737154982\n"
     ]
    },
    {
     "data": {
      "text/html": [
       "<pre>+-----------+----------+--------------+--------------------+---------------------------------+</pre>"
      ],
      "text/plain": [
       "+-----------+----------+--------------+--------------------+---------------------------------+"
      ]
     },
     "metadata": {},
     "output_type": "display_data"
    },
    {
     "data": {
      "text/html": [
       "<pre>SUCCESS: Optimal solution found.</pre>"
      ],
      "text/plain": [
       "SUCCESS: Optimal solution found."
      ]
     },
     "metadata": {},
     "output_type": "display_data"
    },
    {
     "data": {
      "text/html": [
       "<pre></pre>"
      ],
      "text/plain": []
     },
     "metadata": {},
     "output_type": "display_data"
    }
   ],
   "source": [
    "# 3) Use Turi Create (and training data) to fit a polynomial, first order in ‘R’ and ‘V’, \n",
    "# to predict the temperature ‘T’. (Hint: you can select which features are \n",
    "# used in training by setting the ‘features’ parameter.) Name the model ‘model1’. \n",
    "# Calculate and display the training and validation RMSE.\n",
    "features = ['R', 'V']\n",
    "model1 = tc.linear_regression.create(train_data, target='T', features=features)\n",
    "print(\"Training error (rmse):\", model1.evaluate(train_data)['rmse'])\n",
    "print(\"Validation error (rmse):\", model1.evaluate(val_data)['rmse'])"
   ]
  },
  {
   "cell_type": "code",
   "execution_count": 5,
   "id": "3b83dbae-ba85-48a6-aab1-617b53e607b7",
   "metadata": {
    "scrolled": true
   },
   "outputs": [
    {
     "data": {
      "text/html": [
       "<pre>Linear regression:</pre>"
      ],
      "text/plain": [
       "Linear regression:"
      ]
     },
     "metadata": {},
     "output_type": "display_data"
    },
    {
     "data": {
      "text/html": [
       "<pre>--------------------------------------------------------</pre>"
      ],
      "text/plain": [
       "--------------------------------------------------------"
      ]
     },
     "metadata": {},
     "output_type": "display_data"
    },
    {
     "data": {
      "text/html": [
       "<pre>Number of examples          : 70</pre>"
      ],
      "text/plain": [
       "Number of examples          : 70"
      ]
     },
     "metadata": {},
     "output_type": "display_data"
    },
    {
     "data": {
      "text/html": [
       "<pre>Number of features          : 5</pre>"
      ],
      "text/plain": [
       "Number of features          : 5"
      ]
     },
     "metadata": {},
     "output_type": "display_data"
    },
    {
     "data": {
      "text/html": [
       "<pre>Number of unpacked features : 5</pre>"
      ],
      "text/plain": [
       "Number of unpacked features : 5"
      ]
     },
     "metadata": {},
     "output_type": "display_data"
    },
    {
     "name": "stdout",
     "output_type": "stream",
     "text": [
      "Training error (rmse): 0.8231031652631792\n"
     ]
    },
    {
     "data": {
      "text/html": [
       "<pre>Number of coefficients    : 6</pre>"
      ],
      "text/plain": [
       "Number of coefficients    : 6"
      ]
     },
     "metadata": {},
     "output_type": "display_data"
    },
    {
     "name": "stdout",
     "output_type": "stream",
     "text": [
      "Validation error (rmse): 0.9422502165235571\n"
     ]
    },
    {
     "data": {
      "text/html": [
       "<pre>Starting Newton Method</pre>"
      ],
      "text/plain": [
       "Starting Newton Method"
      ]
     },
     "metadata": {},
     "output_type": "display_data"
    },
    {
     "data": {
      "text/html": [
       "<pre>--------------------------------------------------------</pre>"
      ],
      "text/plain": [
       "--------------------------------------------------------"
      ]
     },
     "metadata": {},
     "output_type": "display_data"
    }
   ],
   "source": [
    "# 4) Repeat step 3) but fit a second order polynomial named ‘model2’.\n",
    "features = ['R', 'V', 'R^2', 'V^2', 'R*V']\n",
    "model2 = tc.linear_regression.create(train_data, target='T', features=features)\n",
    "print(\"Training error (rmse):\", model2.evaluate(train_data)['rmse'])\n",
    "print(\"Validation error (rmse):\", model2.evaluate(val_data)['rmse'])"
   ]
  },
  {
   "cell_type": "code",
   "execution_count": 6,
   "id": "66e1ad80-de0e-45a1-9a2d-d0c6724f0388",
   "metadata": {
    "scrolled": true
   },
   "outputs": [
    {
     "data": {
      "text/html": [
       "<pre>+-----------+----------+--------------+--------------------+---------------------------------+</pre>"
      ],
      "text/plain": [
       "+-----------+----------+--------------+--------------------+---------------------------------+"
      ]
     },
     "metadata": {},
     "output_type": "display_data"
    },
    {
     "data": {
      "text/html": [
       "<pre>| Iteration | Passes   | Elapsed Time | Training Max Error | Training Root-Mean-Square Error |</pre>"
      ],
      "text/plain": [
       "| Iteration | Passes   | Elapsed Time | Training Max Error | Training Root-Mean-Square Error |"
      ]
     },
     "metadata": {},
     "output_type": "display_data"
    },
    {
     "data": {
      "text/html": [
       "<pre>+-----------+----------+--------------+--------------------+---------------------------------+</pre>"
      ],
      "text/plain": [
       "+-----------+----------+--------------+--------------------+---------------------------------+"
      ]
     },
     "metadata": {},
     "output_type": "display_data"
    },
    {
     "data": {
      "text/html": [
       "<pre>| 1         | 2        | 0.001262     | 1.886302           | 0.823103                        |</pre>"
      ],
      "text/plain": [
       "| 1         | 2        | 0.001262     | 1.886302           | 0.823103                        |"
      ]
     },
     "metadata": {},
     "output_type": "display_data"
    },
    {
     "data": {
      "text/html": [
       "<pre>+-----------+----------+--------------+--------------------+---------------------------------+</pre>"
      ],
      "text/plain": [
       "+-----------+----------+--------------+--------------------+---------------------------------+"
      ]
     },
     "metadata": {},
     "output_type": "display_data"
    },
    {
     "data": {
      "text/html": [
       "<pre>SUCCESS: Optimal solution found.</pre>"
      ],
      "text/plain": [
       "SUCCESS: Optimal solution found."
      ]
     },
     "metadata": {},
     "output_type": "display_data"
    },
    {
     "data": {
      "text/html": [
       "<pre></pre>"
      ],
      "text/plain": []
     },
     "metadata": {},
     "output_type": "display_data"
    },
    {
     "data": {
      "text/html": [
       "<pre>Linear regression:</pre>"
      ],
      "text/plain": [
       "Linear regression:"
      ]
     },
     "metadata": {},
     "output_type": "display_data"
    },
    {
     "data": {
      "text/html": [
       "<pre>--------------------------------------------------------</pre>"
      ],
      "text/plain": [
       "--------------------------------------------------------"
      ]
     },
     "metadata": {},
     "output_type": "display_data"
    },
    {
     "data": {
      "text/html": [
       "<pre>Number of examples          : 70</pre>"
      ],
      "text/plain": [
       "Number of examples          : 70"
      ]
     },
     "metadata": {},
     "output_type": "display_data"
    },
    {
     "data": {
      "text/html": [
       "<pre>Number of features          : 9</pre>"
      ],
      "text/plain": [
       "Number of features          : 9"
      ]
     },
     "metadata": {},
     "output_type": "display_data"
    },
    {
     "data": {
      "text/html": [
       "<pre>Number of unpacked features : 9</pre>"
      ],
      "text/plain": [
       "Number of unpacked features : 9"
      ]
     },
     "metadata": {},
     "output_type": "display_data"
    },
    {
     "name": "stdout",
     "output_type": "stream",
     "text": [
      "Training error (rmse): 0.8229527282913328\n",
      "Validation error (rmse): 1.0310471771723417\n"
     ]
    },
    {
     "data": {
      "text/html": [
       "<pre>Number of coefficients    : 10</pre>"
      ],
      "text/plain": [
       "Number of coefficients    : 10"
      ]
     },
     "metadata": {},
     "output_type": "display_data"
    },
    {
     "data": {
      "text/html": [
       "<pre>Starting Newton Method</pre>"
      ],
      "text/plain": [
       "Starting Newton Method"
      ]
     },
     "metadata": {},
     "output_type": "display_data"
    },
    {
     "data": {
      "text/html": [
       "<pre>--------------------------------------------------------</pre>"
      ],
      "text/plain": [
       "--------------------------------------------------------"
      ]
     },
     "metadata": {},
     "output_type": "display_data"
    }
   ],
   "source": [
    "# 5) Repeat step 3) but fit a third order polynomial named ‘model3’.\n",
    "features = ['R', 'V', 'R^2', 'V^2', 'R*V', 'R^3', 'V^3', 'R^2*V', 'R*V^2']\n",
    "model3 = tc.linear_regression.create(train_data, target='T', features=features)\n",
    "print(\"Training error (rmse):\", model3.evaluate(train_data)['rmse'])\n",
    "print(\"Validation error (rmse):\", model3.evaluate(val_data)['rmse'])"
   ]
  },
  {
   "cell_type": "markdown",
   "id": "144803f5-9160-4fa2-bf53-c2b383157b21",
   "metadata": {},
   "source": [
    "**6) Add a markdown cell to discuss the three models. Are they overfitting or underfitting? Which one is best?**\n",
    "\n",
    "**Outputs:**\n",
    "<pre>\n",
    "Model 1 - Training RMSE: 12.577252722009018   Validation RMSE: 12.718368737154982\n",
    "\n",
    "Model 2 - Training RMSE: 0.8231031652631792   Validation RMSE: 0.9422502165235571\n",
    "\n",
    "Model 3 - Training RMSE: 0.8229527282913328   Validation RMSE: 1.0310471771723417\n",
    "</pre>\n",
    "\n",
    "**Analysis:**\n",
    "<pre>\n",
    "Model 1 has a high training error, and a high validation error. This means that this model is underfitting.\n",
    "\n",
    "Model 2 has a low training error, and a low validation error. This means that the model is the best one because it fits the most optimal solution.\n",
    "\n",
    "Model 3 has a low training error, and a somewhat high validation error when compared to model 2. This means that it is overfitting.\n",
    "</pre>\n",
    "\n",
    "**Summary:**\n",
    "<pre>\n",
    "Model 1 is underfitting the data.\n",
    "Model 2 fits the data best because the validation error is the lowest.\n",
    "Model 3 overfits the data when compared to model 2.\n",
    "</pre>"
   ]
  },
  {
   "cell_type": "code",
   "execution_count": 7,
   "id": "3c4d3de3-d907-4ce5-a742-1095d14fc665",
   "metadata": {
    "scrolled": true
   },
   "outputs": [
    {
     "data": {
      "text/html": [
       "<pre>+-----------+----------+--------------+--------------------+---------------------------------+</pre>"
      ],
      "text/plain": [
       "+-----------+----------+--------------+--------------------+---------------------------------+"
      ]
     },
     "metadata": {},
     "output_type": "display_data"
    },
    {
     "data": {
      "text/html": [
       "<pre>| Iteration | Passes   | Elapsed Time | Training Max Error | Training Root-Mean-Square Error |</pre>"
      ],
      "text/plain": [
       "| Iteration | Passes   | Elapsed Time | Training Max Error | Training Root-Mean-Square Error |"
      ]
     },
     "metadata": {},
     "output_type": "display_data"
    },
    {
     "data": {
      "text/html": [
       "<pre>+-----------+----------+--------------+--------------------+---------------------------------+</pre>"
      ],
      "text/plain": [
       "+-----------+----------+--------------+--------------------+---------------------------------+"
      ]
     },
     "metadata": {},
     "output_type": "display_data"
    },
    {
     "data": {
      "text/html": [
       "<pre>| 1         | 2        | 0.001457     | 1.874495           | 0.822953                        |</pre>"
      ],
      "text/plain": [
       "| 1         | 2        | 0.001457     | 1.874495           | 0.822953                        |"
      ]
     },
     "metadata": {},
     "output_type": "display_data"
    },
    {
     "data": {
      "text/html": [
       "<pre>+-----------+----------+--------------+--------------------+---------------------------------+</pre>"
      ],
      "text/plain": [
       "+-----------+----------+--------------+--------------------+---------------------------------+"
      ]
     },
     "metadata": {},
     "output_type": "display_data"
    },
    {
     "data": {
      "text/html": [
       "<pre>SUCCESS: Optimal solution found.</pre>"
      ],
      "text/plain": [
       "SUCCESS: Optimal solution found."
      ]
     },
     "metadata": {},
     "output_type": "display_data"
    },
    {
     "data": {
      "text/html": [
       "<pre></pre>"
      ],
      "text/plain": []
     },
     "metadata": {},
     "output_type": "display_data"
    },
    {
     "data": {
      "text/html": [
       "<pre>Linear regression:</pre>"
      ],
      "text/plain": [
       "Linear regression:"
      ]
     },
     "metadata": {},
     "output_type": "display_data"
    },
    {
     "data": {
      "text/html": [
       "<pre>--------------------------------------------------------</pre>"
      ],
      "text/plain": [
       "--------------------------------------------------------"
      ]
     },
     "metadata": {},
     "output_type": "display_data"
    },
    {
     "data": {
      "text/html": [
       "<pre>Number of examples          : 70</pre>"
      ],
      "text/plain": [
       "Number of examples          : 70"
      ]
     },
     "metadata": {},
     "output_type": "display_data"
    },
    {
     "data": {
      "text/html": [
       "<pre>Number of features          : 5</pre>"
      ],
      "text/plain": [
       "Number of features          : 5"
      ]
     },
     "metadata": {},
     "output_type": "display_data"
    },
    {
     "data": {
      "text/html": [
       "<pre>Number of unpacked features : 5</pre>"
      ],
      "text/plain": [
       "Number of unpacked features : 5"
      ]
     },
     "metadata": {},
     "output_type": "display_data"
    },
    {
     "data": {
      "text/html": [
       "<pre>Number of coefficients    : 6</pre>"
      ],
      "text/plain": [
       "Number of coefficients    : 6"
      ]
     },
     "metadata": {},
     "output_type": "display_data"
    },
    {
     "data": {
      "text/html": [
       "<pre>Starting Newton Method</pre>"
      ],
      "text/plain": [
       "Starting Newton Method"
      ]
     },
     "metadata": {},
     "output_type": "display_data"
    },
    {
     "data": {
      "text/html": [
       "<pre>--------------------------------------------------------</pre>"
      ],
      "text/plain": [
       "--------------------------------------------------------"
      ]
     },
     "metadata": {},
     "output_type": "display_data"
    },
    {
     "data": {
      "text/html": [
       "<pre>+-----------+----------+--------------+--------------------+---------------------------------+</pre>"
      ],
      "text/plain": [
       "+-----------+----------+--------------+--------------------+---------------------------------+"
      ]
     },
     "metadata": {},
     "output_type": "display_data"
    },
    {
     "data": {
      "text/html": [
       "<pre>| Iteration | Passes   | Elapsed Time | Training Max Error | Training Root-Mean-Square Error |</pre>"
      ],
      "text/plain": [
       "| Iteration | Passes   | Elapsed Time | Training Max Error | Training Root-Mean-Square Error |"
      ]
     },
     "metadata": {},
     "output_type": "display_data"
    },
    {
     "data": {
      "text/html": [
       "<pre>+-----------+----------+--------------+--------------------+---------------------------------+</pre>"
      ],
      "text/plain": [
       "+-----------+----------+--------------+--------------------+---------------------------------+"
      ]
     },
     "metadata": {},
     "output_type": "display_data"
    },
    {
     "name": "stdout",
     "output_type": "stream",
     "text": [
      "Training error (rmse): 0.8231031652631792\n"
     ]
    },
    {
     "data": {
      "text/html": [
       "<pre>| 1         | 2        | 0.000905     | 1.886302           | 0.823103                        |</pre>"
      ],
      "text/plain": [
       "| 1         | 2        | 0.000905     | 1.886302           | 0.823103                        |"
      ]
     },
     "metadata": {},
     "output_type": "display_data"
    },
    {
     "name": "stdout",
     "output_type": "stream",
     "text": [
      "Validation error (rmse): 0.9422502165235571\n"
     ]
    },
    {
     "data": {
      "text/html": [
       "<pre>+-----------+----------+--------------+--------------------+---------------------------------+</pre>"
      ],
      "text/plain": [
       "+-----------+----------+--------------+--------------------+---------------------------------+"
      ]
     },
     "metadata": {},
     "output_type": "display_data"
    },
    {
     "data": {
      "text/html": [
       "<pre>SUCCESS: Optimal solution found.</pre>"
      ],
      "text/plain": [
       "SUCCESS: Optimal solution found."
      ]
     },
     "metadata": {},
     "output_type": "display_data"
    }
   ],
   "source": [
    "# 7) Create a new third order model named ‘model3r’ that uses L1 and/or L2 regularization. \n",
    "# Experiment with different values and see if you can beat the best model \n",
    "# chosen in step 6). Calculate and display the training and validation RMSE.\n",
    "features = ['R', 'V', 'R^2', 'V^2', 'R*V']\n",
    "model3r = tc.linear_regression.create(train_data, target='T', features=features, l1_penalty=0.0)\n",
    "print(\"Training error (rmse):\", model3r.evaluate(train_data)['rmse'])\n",
    "print(\"Validation error (rmse):\", model3r.evaluate(val_data)['rmse'])"
   ]
  },
  {
   "cell_type": "markdown",
   "id": "8805ac54-b1f8-4dfa-a50f-5c85a0ff04f3",
   "metadata": {},
   "source": [
    "**8) Add a markdown cell to discuss how well ‘model3r’ compares with the model you chose in step 6). Which one is best?**\n",
    "\n",
    "**Outputs:**\n",
    "<pre>\n",
    "Model 2 - Training RMSE: 0.8231031652631792   Validation RMSE: 0.9422502165235571\n",
    "\n",
    "Model3r - Training RMSE: 0.8231031652631792   Validation RMSE: 0.9422502165235571\n",
    "</pre>\n",
    "    \n",
    "**Analysis:**\n",
    "<pre>\n",
    "Both Model 2 and model3r have identical training and validation RMSE values. This indicates that they perform similarly in terms of prediction accuracy. \n",
    "While Model 2 fits the data well, the identical RMSE values suggest that model3r is also equally effective. \n",
    "Given that both models show comparable performance, choosing to stick with Model 2 ensures simplicity and consistency.\n",
    "</pre>\n",
    "    \n",
    "**Summary:**\n",
    "<pre>\n",
    "Model 2 is the best model of the four because it fits the data well.\n",
    "</pre>"
   ]
  },
  {
   "cell_type": "code",
   "execution_count": 9,
   "id": "731da026-2108-4178-8493-75795f39a959",
   "metadata": {},
   "outputs": [
    {
     "name": "stdout",
     "output_type": "stream",
     "text": [
      "Testing error (rmse): 0.8598681076864875\n"
     ]
    }
   ],
   "source": [
    "# 9) Calculate and display the testing RMSE of the best overall model.\n",
    "print(\"Testing error (rmse):\", model2.evaluate(test_data)['rmse'])"
   ]
  },
  {
   "cell_type": "markdown",
   "id": "111c328a-b32a-43fd-8200-3c83e335b08c",
   "metadata": {},
   "source": [
    "**9.b Add a markdown cell to discuss how close you expect the model’s predictions to be upon implementation.**\n",
    "\n",
    "**Model 2 RMSE values:**\n",
    "<pre>\n",
    "- Training   RMSE:   0.8231031652631792\n",
    "- Validation RMSE:   0.9422502165235571\n",
    "- Testing    RMSE:   0.8598681076864875\n",
    "</pre>\n",
    "    \n",
    "The best overall model is model 2. It has the lowest RMSE values which makes it the optimal solution. The testing RMSE of 0.86 indicates that the model is reliable and can accurately predict the temperature based on the features 'R' and 'V'. The model's predictions are expected to be close to the actual temperatures upon implementation, making it a suitable choice for this regression algorithm."
   ]
  }
 ],
 "metadata": {
  "kernelspec": {
   "display_name": "Python 3 (ipykernel)",
   "language": "python",
   "name": "python3"
  },
  "language_info": {
   "codemirror_mode": {
    "name": "ipython",
    "version": 3
   },
   "file_extension": ".py",
   "mimetype": "text/x-python",
   "name": "python",
   "nbconvert_exporter": "python",
   "pygments_lexer": "ipython3",
   "version": "3.8.20"
  }
 },
 "nbformat": 4,
 "nbformat_minor": 5
}
