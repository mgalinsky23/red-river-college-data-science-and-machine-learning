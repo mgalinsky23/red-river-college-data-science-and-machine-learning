{
 "cells": [
  {
   "cell_type": "markdown",
   "id": "2491f807-9e63-43d2-9cd4-c960e1651df8",
   "metadata": {},
   "source": [
    "# Polynomial Regression and Regularization"
   ]
  },
  {
   "cell_type": "code",
   "execution_count": 1,
   "id": "8119b4ca-614f-453a-bec3-1472d21406f3",
   "metadata": {},
   "outputs": [],
   "source": [
    "import turicreate as tc"
   ]
  },
  {
   "cell_type": "code",
   "execution_count": 2,
   "id": "c226ac22-7877-481d-af6d-104d02f0c25f",
   "metadata": {},
   "outputs": [
    {
     "name": "stdout",
     "output_type": "stream",
     "text": [
      "+----+-----+\n",
      "| x1 |  x2 |\n",
      "+----+-----+\n",
      "| 1  |  10 |\n",
      "| -1 | -10 |\n",
      "| 2  | -10 |\n",
      "| -2 |  10 |\n",
      "| 2  |  1  |\n",
      "+----+-----+\n",
      "[5 rows x 2 columns]\n",
      "\n"
     ]
    }
   ],
   "source": [
    "# 1) The table below is a dataset to be used for polynomial regression. \n",
    "# There are two features 𝑥1 and 𝑥2, and the label is not shown here.\n",
    "x = {\n",
    "    'x1': [1, -1, 2, -2, 2],\n",
    "    'x2': [10, -10, -10, 10, 1]\n",
    "}\n",
    "# a) Hardcode the data into an SFrame and display it.\n",
    "data = tc.SFrame(x)\n",
    "print(data)"
   ]
  },
  {
   "cell_type": "markdown",
   "id": "bffed542-9b6c-424d-a81e-8d599cb97f24",
   "metadata": {},
   "source": [
    "Write the most general 4th order polynomial that can be created from these two features:\n",
    "\n",
    "**4th Order Polynomial:**\n",
    "\n",
    "a*x1^4 + b*x1^3*x2 + c*x1^2*x2^2 + d*x1*x2^3 + e*x2^4 + f*x1^2 + g*x2^2 + h*x1 + i*x2 + j"
   ]
  },
  {
   "cell_type": "code",
   "execution_count": 3,
   "id": "e06e18f3-599d-4986-8dac-4507c2941c26",
   "metadata": {},
   "outputs": [
    {
     "name": "stdout",
     "output_type": "stream",
     "text": [
      "+----+-----+------+------+------+-------+---------+---------+-------+---------+\n",
      "| x1 |  x2 | x1^2 | x1^3 | x1^4 |  x2^2 |   x2^3  |   x2^4  | x1*x2 | x1^2*x2 |\n",
      "+----+-----+------+------+------+-------+---------+---------+-------+---------+\n",
      "| 1  |  10 | 1.0  | 1.0  | 1.0  | 100.0 |  1000.0 | 10000.0 |   10  |   10.0  |\n",
      "| -1 | -10 | 1.0  | -1.0 | 1.0  | 100.0 | -1000.0 | 10000.0 |   10  |  -10.0  |\n",
      "| 2  | -10 | 4.0  | 8.0  | 16.0 | 100.0 | -1000.0 | 10000.0 |  -20  |  -40.0  |\n",
      "| -2 |  10 | 4.0  | -8.0 | 16.0 | 100.0 |  1000.0 | 10000.0 |  -20  |   40.0  |\n",
      "| 2  |  1  | 4.0  | 8.0  | 16.0 |  1.0  |   1.0   |   1.0   |   2   |   4.0   |\n",
      "+----+-----+------+------+------+-------+---------+---------+-------+---------+\n",
      "+---------+---------+-----------+---------+\n",
      "| x1*x2^2 | x1^3*x2 | x1^2*x2^2 | x1*x2^3 |\n",
      "+---------+---------+-----------+---------+\n",
      "|  100.0  |   10.0  |   100.0   |  1000.0 |\n",
      "|  -100.0 |   10.0  |   100.0   |  1000.0 |\n",
      "|  200.0  |  -80.0  |   400.0   | -2000.0 |\n",
      "|  -200.0 |  -80.0  |   400.0   | -2000.0 |\n",
      "|   2.0   |   8.0   |    4.0    |   2.0   |\n",
      "+---------+---------+-----------+---------+\n",
      "[5 rows x 14 columns]\n",
      "\n"
     ]
    }
   ],
   "source": [
    "# c) Add columns to the datarame to hold all \n",
    "# combinations of the features up to the 4th order and display it.\n",
    "data['x1^2'] = data['x1'] ** 2\n",
    "data['x1^3'] = data['x1'] ** 3\n",
    "data['x1^4'] = data['x1'] ** 4\n",
    "data['x2^2'] = data['x2'] ** 2\n",
    "data['x2^3'] = data['x2'] ** 3\n",
    "data['x2^4'] = data['x2'] ** 4\n",
    "data['x1*x2'] = data['x1'] * data['x2']\n",
    "data['x1^2*x2'] = data['x1'] ** 2 * data['x2']\n",
    "data['x1*x2^2'] = data['x1'] * data['x2'] ** 2\n",
    "data['x1^3*x2'] = data['x1'] ** 3 * data['x2']\n",
    "data['x1^2*x2^2'] = data['x1'] ** 2 * data['x2'] ** 2\n",
    "data['x1*x2^3'] = data['x1'] * data['x2'] ** 3\n",
    "\n",
    "print(data)"
   ]
  },
  {
   "cell_type": "code",
   "execution_count": 4,
   "id": "35d67a07-fff1-4302-b876-935099997854",
   "metadata": {},
   "outputs": [
    {
     "name": "stdout",
     "output_type": "stream",
     "text": [
      "+---+------+\n",
      "| x |  y   |\n",
      "+---+------+\n",
      "| 1 | 2.0  |\n",
      "| 2 | 2.5  |\n",
      "| 3 | 6.0  |\n",
      "| 4 | 14.5 |\n",
      "| 5 | 34.0 |\n",
      "+---+------+\n",
      "[5 rows x 2 columns]\n",
      "\n",
      "+---+------+-------------+\n",
      "| x |  y   | predictions |\n",
      "+---+------+-------------+\n",
      "| 1 | 2.0  |      1      |\n",
      "| 2 | 2.5  |      2      |\n",
      "| 3 | 6.0  |      7      |\n",
      "| 4 | 14.5 |      16     |\n",
      "| 5 | 34.0 |      29     |\n",
      "+---+------+-------------+\n",
      "[5 rows x 3 columns]\n",
      "\n",
      "mean absolute error = 1.8\n"
     ]
    }
   ],
   "source": [
    "# 2) Consider the following table showing a feature 𝑥 and label 𝑦 of five samples.\n",
    "xy = {\n",
    "    'x': [1, 2, 3, 4, 5],\n",
    "    'y': [2, 2.5, 6, 14.5, 34]\n",
    "}\n",
    "# a) First, hardcode this data into an SFrame.\n",
    "data2 = tc.SFrame(xy)\n",
    "print(data2)\n",
    "\n",
    "# Now, consider that you have trained a 2nd order polynomial regression model: 𝑦̂=2𝑥2−5𝑥+4.\n",
    "def predict(x):\n",
    "    return 2 * x**2 - 5 * x + 4\n",
    "\n",
    "# b) Add a column to the SFrame with the predictions\n",
    "data2['predictions'] = data2['x'].apply(predict)\n",
    "print(data2)\n",
    "\n",
    "# c) Calculate and display the mean absolute error (MAE) using code\n",
    "mean_abs_error = sum( abs(data2['y']-data2['predictions']) ) / len(data2)\n",
    "print(\"mean absolute error =\", mean_abs_error)\n"
   ]
  },
  {
   "cell_type": "code",
   "execution_count": 5,
   "id": "e49b3cf2-785f-4e60-8bdc-305cba88238d",
   "metadata": {},
   "outputs": [
    {
     "name": "stdout",
     "output_type": "stream",
     "text": [
      "Total Lasso Regression Error:  2.9000000000000004\n"
     ]
    }
   ],
   "source": [
    "# The regularization parameter is 𝜆 = 0.1; write code to calculate and display the following:\n",
    "# d) The total lasso regression error of our model (using the L1 norm and MAE)\n",
    "\n",
    "𝜆 = 0.1\n",
    "coefficients = [2, -5, 4]\n",
    "\n",
    "l1 = sum(abs(num) for num in coefficients)\n",
    "lasso_regression_error = mean_abs_error + 𝜆 * l1\n",
    "print(\"Total Lasso Regression Error: \", lasso_regression_error)"
   ]
  },
  {
   "cell_type": "code",
   "execution_count": 6,
   "id": "2b778d08-b929-4e2e-912d-970a07d00dcb",
   "metadata": {},
   "outputs": [
    {
     "name": "stdout",
     "output_type": "stream",
     "text": [
      "Total Ridge Regression Error:  6.3\n"
     ]
    }
   ],
   "source": [
    "# e) The total ridge regression error of our model (using the L2 norm and MAE)\n",
    "l2 = sum(pow(num, 2) for num in coefficients)\n",
    "ridge_regression_error = mean_abs_error + 𝜆 * l2\n",
    "print(\"Total Ridge Regression Error: \", ridge_regression_error)"
   ]
  }
 ],
 "metadata": {
  "kernelspec": {
   "display_name": "Python 3 (ipykernel)",
   "language": "python",
   "name": "python3"
  },
  "language_info": {
   "codemirror_mode": {
    "name": "ipython",
    "version": 3
   },
   "file_extension": ".py",
   "mimetype": "text/x-python",
   "name": "python",
   "nbconvert_exporter": "python",
   "pygments_lexer": "ipython3",
   "version": "3.8.20"
  }
 },
 "nbformat": 4,
 "nbformat_minor": 5
}
